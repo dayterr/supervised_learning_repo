{
 "cells": [
  {
   "cell_type": "markdown",
   "metadata": {
    "toc": true
   },
   "source": [
    "<h1>Содержание<span class=\"tocSkip\"></span></h1>\n",
    "<div class=\"toc\"><ul class=\"toc-item\"><li><span><a href=\"#Подготовка-данных\" data-toc-modified-id=\"Подготовка-данных-1\"><span class=\"toc-item-num\">1&nbsp;&nbsp;</span>Подготовка данных</a></span></li><li><span><a href=\"#Исследование-задачи\" data-toc-modified-id=\"Исследование-задачи-2\"><span class=\"toc-item-num\">2&nbsp;&nbsp;</span>Исследование задачи</a></span></li><li><span><a href=\"#Борьба-с-дисбалансом\" data-toc-modified-id=\"Борьба-с-дисбалансом-3\"><span class=\"toc-item-num\">3&nbsp;&nbsp;</span>Борьба с дисбалансом</a></span></li><li><span><a href=\"#Тестирование-модели\" data-toc-modified-id=\"Тестирование-модели-4\"><span class=\"toc-item-num\">4&nbsp;&nbsp;</span>Тестирование модели</a></span></li><li><span><a href=\"#Чек-лист-готовности-проекта\" data-toc-modified-id=\"Чек-лист-готовности-проекта-5\"><span class=\"toc-item-num\">5&nbsp;&nbsp;</span>Чек-лист готовности проекта</a></span></li></ul></div>"
   ]
  },
  {
   "cell_type": "markdown",
   "metadata": {},
   "source": [
    "# Отток клиентов"
   ]
  },
  {
   "cell_type": "markdown",
   "metadata": {},
   "source": [
    "Из «Бета-Банка» стали уходить клиенты. Каждый месяц. Немного, но заметно. Банковские маркетологи посчитали: сохранять текущих клиентов дешевле, чем привлекать новых.\n",
    "\n",
    "Нужно спрогнозировать, уйдёт клиент из банка в ближайшее время или нет. Вам предоставлены исторические данные о поведении клиентов и расторжении договоров с банком. \n",
    "\n",
    "Постройте модель с предельно большим значением *F1*-меры. Чтобы сдать проект успешно, нужно довести метрику до 0.59. Проверьте *F1*-меру на тестовой выборке самостоятельно.\n",
    "\n",
    "Дополнительно измеряйте *AUC-ROC*, сравнивайте её значение с *F1*-мерой.\n",
    "\n",
    "Источник данных: [https://www.kaggle.com/barelydedicated/bank-customer-churn-modeling](https://www.kaggle.com/barelydedicated/bank-customer-churn-modeling)"
   ]
  },
  {
   "cell_type": "markdown",
   "metadata": {},
   "source": [
    "## Подготовка данных"
   ]
  },
  {
   "cell_type": "code",
   "execution_count": 116,
   "metadata": {},
   "outputs": [],
   "source": [
    "from numpy import linspace\n",
    "import pandas as pd\n",
    "from sklearn.dummy import DummyClassifier\n",
    "from sklearn.ensemble import RandomForestClassifier\n",
    "from sklearn.linear_model import LogisticRegression\n",
    "from sklearn.metrics import confusion_matrix, f1_score, roc_auc_score, ConfusionMatrixDisplay, RocCurveDisplay\n",
    "from sklearn.model_selection import train_test_split, GridSearchCV\n",
    "from sklearn.neighbors import KNeighborsClassifier\n",
    "from sklearn.utils import shuffle\n",
    "\n",
    "from ydata_profiling import ProfileReport"
   ]
  },
  {
   "cell_type": "markdown",
   "metadata": {},
   "source": [
    "Откроем наш датасет, проверим, что с ним всё в порядке, посмотрим на общую информацию."
   ]
  },
  {
   "cell_type": "code",
   "execution_count": 11,
   "metadata": {},
   "outputs": [],
   "source": [
    "data = pd.read_csv('/datasets/Churn.csv')"
   ]
  },
  {
   "cell_type": "code",
   "execution_count": 12,
   "metadata": {},
   "outputs": [],
   "source": [
    "profile = ProfileReport(data, title='Churn')"
   ]
  },
  {
   "cell_type": "code",
   "execution_count": 13,
   "metadata": {
    "scrolled": true
   },
   "outputs": [
    {
     "data": {
      "application/vnd.jupyter.widget-view+json": {
       "model_id": "3abdf7d585a54109913f57d39b7147f4",
       "version_major": 2,
       "version_minor": 0
      },
      "text/plain": [
       "Summarize dataset:   0%|          | 0/5 [00:00<?, ?it/s]"
      ]
     },
     "metadata": {},
     "output_type": "display_data"
    },
    {
     "data": {
      "application/vnd.jupyter.widget-view+json": {
       "model_id": "e63e4604a9b745f8ba6667bf564baaad",
       "version_major": 2,
       "version_minor": 0
      },
      "text/plain": [
       "Generate report structure:   0%|          | 0/1 [00:00<?, ?it/s]"
      ]
     },
     "metadata": {},
     "output_type": "display_data"
    },
    {
     "data": {
      "application/vnd.jupyter.widget-view+json": {
       "model_id": "",
       "version_major": 2,
       "version_minor": 0
      },
      "text/plain": [
       "Render widgets:   0%|          | 0/1 [00:00<?, ?it/s]"
      ]
     },
     "metadata": {},
     "output_type": "display_data"
    },
    {
     "data": {
      "application/vnd.jupyter.widget-view+json": {
       "model_id": "a5254bbc4a4349e7b522c2dfa1d9c6a2",
       "version_major": 2,
       "version_minor": 0
      },
      "text/plain": [
       "VBox(children=(Tab(children=(Tab(children=(GridBox(children=(VBox(children=(GridspecLayout(children=(HTML(valu…"
      ]
     },
     "metadata": {},
     "output_type": "display_data"
    }
   ],
   "source": [
    "profile.to_widgets()"
   ]
  },
  {
   "cell_type": "code",
   "execution_count": 14,
   "metadata": {},
   "outputs": [
    {
     "data": {
      "text/html": [
       "<div>\n",
       "<style scoped>\n",
       "    .dataframe tbody tr th:only-of-type {\n",
       "        vertical-align: middle;\n",
       "    }\n",
       "\n",
       "    .dataframe tbody tr th {\n",
       "        vertical-align: top;\n",
       "    }\n",
       "\n",
       "    .dataframe thead th {\n",
       "        text-align: right;\n",
       "    }\n",
       "</style>\n",
       "<table border=\"1\" class=\"dataframe\">\n",
       "  <thead>\n",
       "    <tr style=\"text-align: right;\">\n",
       "      <th></th>\n",
       "      <th>RowNumber</th>\n",
       "      <th>CustomerId</th>\n",
       "      <th>Surname</th>\n",
       "      <th>CreditScore</th>\n",
       "      <th>Geography</th>\n",
       "      <th>Gender</th>\n",
       "      <th>Age</th>\n",
       "      <th>Tenure</th>\n",
       "      <th>Balance</th>\n",
       "      <th>NumOfProducts</th>\n",
       "      <th>HasCrCard</th>\n",
       "      <th>IsActiveMember</th>\n",
       "      <th>EstimatedSalary</th>\n",
       "      <th>Exited</th>\n",
       "    </tr>\n",
       "  </thead>\n",
       "  <tbody>\n",
       "    <tr>\n",
       "      <th>0</th>\n",
       "      <td>1</td>\n",
       "      <td>15634602</td>\n",
       "      <td>Hargrave</td>\n",
       "      <td>619</td>\n",
       "      <td>France</td>\n",
       "      <td>Female</td>\n",
       "      <td>42</td>\n",
       "      <td>2.0</td>\n",
       "      <td>0.00</td>\n",
       "      <td>1</td>\n",
       "      <td>1</td>\n",
       "      <td>1</td>\n",
       "      <td>101348.88</td>\n",
       "      <td>1</td>\n",
       "    </tr>\n",
       "    <tr>\n",
       "      <th>1</th>\n",
       "      <td>2</td>\n",
       "      <td>15647311</td>\n",
       "      <td>Hill</td>\n",
       "      <td>608</td>\n",
       "      <td>Spain</td>\n",
       "      <td>Female</td>\n",
       "      <td>41</td>\n",
       "      <td>1.0</td>\n",
       "      <td>83807.86</td>\n",
       "      <td>1</td>\n",
       "      <td>0</td>\n",
       "      <td>1</td>\n",
       "      <td>112542.58</td>\n",
       "      <td>0</td>\n",
       "    </tr>\n",
       "    <tr>\n",
       "      <th>2</th>\n",
       "      <td>3</td>\n",
       "      <td>15619304</td>\n",
       "      <td>Onio</td>\n",
       "      <td>502</td>\n",
       "      <td>France</td>\n",
       "      <td>Female</td>\n",
       "      <td>42</td>\n",
       "      <td>8.0</td>\n",
       "      <td>159660.80</td>\n",
       "      <td>3</td>\n",
       "      <td>1</td>\n",
       "      <td>0</td>\n",
       "      <td>113931.57</td>\n",
       "      <td>1</td>\n",
       "    </tr>\n",
       "    <tr>\n",
       "      <th>3</th>\n",
       "      <td>4</td>\n",
       "      <td>15701354</td>\n",
       "      <td>Boni</td>\n",
       "      <td>699</td>\n",
       "      <td>France</td>\n",
       "      <td>Female</td>\n",
       "      <td>39</td>\n",
       "      <td>1.0</td>\n",
       "      <td>0.00</td>\n",
       "      <td>2</td>\n",
       "      <td>0</td>\n",
       "      <td>0</td>\n",
       "      <td>93826.63</td>\n",
       "      <td>0</td>\n",
       "    </tr>\n",
       "    <tr>\n",
       "      <th>4</th>\n",
       "      <td>5</td>\n",
       "      <td>15737888</td>\n",
       "      <td>Mitchell</td>\n",
       "      <td>850</td>\n",
       "      <td>Spain</td>\n",
       "      <td>Female</td>\n",
       "      <td>43</td>\n",
       "      <td>2.0</td>\n",
       "      <td>125510.82</td>\n",
       "      <td>1</td>\n",
       "      <td>1</td>\n",
       "      <td>1</td>\n",
       "      <td>79084.10</td>\n",
       "      <td>0</td>\n",
       "    </tr>\n",
       "  </tbody>\n",
       "</table>\n",
       "</div>"
      ],
      "text/plain": [
       "   RowNumber  CustomerId   Surname  CreditScore Geography  Gender  Age  \\\n",
       "0          1    15634602  Hargrave          619    France  Female   42   \n",
       "1          2    15647311      Hill          608     Spain  Female   41   \n",
       "2          3    15619304      Onio          502    France  Female   42   \n",
       "3          4    15701354      Boni          699    France  Female   39   \n",
       "4          5    15737888  Mitchell          850     Spain  Female   43   \n",
       "\n",
       "   Tenure    Balance  NumOfProducts  HasCrCard  IsActiveMember  \\\n",
       "0     2.0       0.00              1          1               1   \n",
       "1     1.0   83807.86              1          0               1   \n",
       "2     8.0  159660.80              3          1               0   \n",
       "3     1.0       0.00              2          0               0   \n",
       "4     2.0  125510.82              1          1               1   \n",
       "\n",
       "   EstimatedSalary  Exited  \n",
       "0        101348.88       1  \n",
       "1        112542.58       0  \n",
       "2        113931.57       1  \n",
       "3         93826.63       0  \n",
       "4         79084.10       0  "
      ]
     },
     "execution_count": 14,
     "metadata": {},
     "output_type": "execute_result"
    }
   ],
   "source": [
    "data.head()"
   ]
  },
  {
   "cell_type": "code",
   "execution_count": 15,
   "metadata": {},
   "outputs": [
    {
     "data": {
      "text/plain": [
       "(10000, 14)"
      ]
     },
     "execution_count": 15,
     "metadata": {},
     "output_type": "execute_result"
    }
   ],
   "source": [
    "data.shape"
   ]
  },
  {
   "cell_type": "code",
   "execution_count": 16,
   "metadata": {},
   "outputs": [
    {
     "name": "stdout",
     "output_type": "stream",
     "text": [
      "<class 'pandas.core.frame.DataFrame'>\n",
      "RangeIndex: 10000 entries, 0 to 9999\n",
      "Data columns (total 14 columns):\n",
      " #   Column           Non-Null Count  Dtype  \n",
      "---  ------           --------------  -----  \n",
      " 0   RowNumber        10000 non-null  int64  \n",
      " 1   CustomerId       10000 non-null  int64  \n",
      " 2   Surname          10000 non-null  object \n",
      " 3   CreditScore      10000 non-null  int64  \n",
      " 4   Geography        10000 non-null  object \n",
      " 5   Gender           10000 non-null  object \n",
      " 6   Age              10000 non-null  int64  \n",
      " 7   Tenure           9091 non-null   float64\n",
      " 8   Balance          10000 non-null  float64\n",
      " 9   NumOfProducts    10000 non-null  int64  \n",
      " 10  HasCrCard        10000 non-null  int64  \n",
      " 11  IsActiveMember   10000 non-null  int64  \n",
      " 12  EstimatedSalary  10000 non-null  float64\n",
      " 13  Exited           10000 non-null  int64  \n",
      "dtypes: float64(3), int64(8), object(3)\n",
      "memory usage: 1.1+ MB\n"
     ]
    }
   ],
   "source": [
    "data.info()"
   ]
  },
  {
   "cell_type": "markdown",
   "metadata": {},
   "source": [
    "Датасет практически в полном порядке. Однако, присутствуют пропуски в столбце Tenure. Почему? Проверим, возможно, это те клиенты, которые ещё не ушли из банка."
   ]
  },
  {
   "cell_type": "code",
   "execution_count": 17,
   "metadata": {},
   "outputs": [
    {
     "data": {
      "text/html": [
       "<div>\n",
       "<style scoped>\n",
       "    .dataframe tbody tr th:only-of-type {\n",
       "        vertical-align: middle;\n",
       "    }\n",
       "\n",
       "    .dataframe tbody tr th {\n",
       "        vertical-align: top;\n",
       "    }\n",
       "\n",
       "    .dataframe thead th {\n",
       "        text-align: right;\n",
       "    }\n",
       "</style>\n",
       "<table border=\"1\" class=\"dataframe\">\n",
       "  <thead>\n",
       "    <tr style=\"text-align: right;\">\n",
       "      <th></th>\n",
       "      <th>RowNumber</th>\n",
       "      <th>CustomerId</th>\n",
       "      <th>Surname</th>\n",
       "      <th>CreditScore</th>\n",
       "      <th>Geography</th>\n",
       "      <th>Gender</th>\n",
       "      <th>Age</th>\n",
       "      <th>Tenure</th>\n",
       "      <th>Balance</th>\n",
       "      <th>NumOfProducts</th>\n",
       "      <th>HasCrCard</th>\n",
       "      <th>IsActiveMember</th>\n",
       "      <th>EstimatedSalary</th>\n",
       "      <th>Exited</th>\n",
       "    </tr>\n",
       "  </thead>\n",
       "  <tbody>\n",
       "    <tr>\n",
       "      <th>30</th>\n",
       "      <td>31</td>\n",
       "      <td>15589475</td>\n",
       "      <td>Azikiwe</td>\n",
       "      <td>591</td>\n",
       "      <td>Spain</td>\n",
       "      <td>Female</td>\n",
       "      <td>39</td>\n",
       "      <td>NaN</td>\n",
       "      <td>0.00</td>\n",
       "      <td>3</td>\n",
       "      <td>1</td>\n",
       "      <td>0</td>\n",
       "      <td>140469.38</td>\n",
       "      <td>1</td>\n",
       "    </tr>\n",
       "    <tr>\n",
       "      <th>53</th>\n",
       "      <td>54</td>\n",
       "      <td>15702298</td>\n",
       "      <td>Parkhill</td>\n",
       "      <td>655</td>\n",
       "      <td>Germany</td>\n",
       "      <td>Male</td>\n",
       "      <td>41</td>\n",
       "      <td>NaN</td>\n",
       "      <td>125561.97</td>\n",
       "      <td>1</td>\n",
       "      <td>0</td>\n",
       "      <td>0</td>\n",
       "      <td>164040.94</td>\n",
       "      <td>1</td>\n",
       "    </tr>\n",
       "    <tr>\n",
       "      <th>125</th>\n",
       "      <td>126</td>\n",
       "      <td>15627360</td>\n",
       "      <td>Fuller</td>\n",
       "      <td>432</td>\n",
       "      <td>France</td>\n",
       "      <td>Male</td>\n",
       "      <td>42</td>\n",
       "      <td>NaN</td>\n",
       "      <td>152603.45</td>\n",
       "      <td>1</td>\n",
       "      <td>1</td>\n",
       "      <td>0</td>\n",
       "      <td>110265.24</td>\n",
       "      <td>1</td>\n",
       "    </tr>\n",
       "    <tr>\n",
       "      <th>237</th>\n",
       "      <td>238</td>\n",
       "      <td>15764866</td>\n",
       "      <td>Synnot</td>\n",
       "      <td>539</td>\n",
       "      <td>Germany</td>\n",
       "      <td>Female</td>\n",
       "      <td>43</td>\n",
       "      <td>NaN</td>\n",
       "      <td>116220.50</td>\n",
       "      <td>3</td>\n",
       "      <td>1</td>\n",
       "      <td>0</td>\n",
       "      <td>55803.96</td>\n",
       "      <td>1</td>\n",
       "    </tr>\n",
       "    <tr>\n",
       "      <th>357</th>\n",
       "      <td>358</td>\n",
       "      <td>15661629</td>\n",
       "      <td>Ricci</td>\n",
       "      <td>522</td>\n",
       "      <td>Spain</td>\n",
       "      <td>Male</td>\n",
       "      <td>34</td>\n",
       "      <td>NaN</td>\n",
       "      <td>126436.29</td>\n",
       "      <td>1</td>\n",
       "      <td>1</td>\n",
       "      <td>0</td>\n",
       "      <td>174248.52</td>\n",
       "      <td>1</td>\n",
       "    </tr>\n",
       "    <tr>\n",
       "      <th>...</th>\n",
       "      <td>...</td>\n",
       "      <td>...</td>\n",
       "      <td>...</td>\n",
       "      <td>...</td>\n",
       "      <td>...</td>\n",
       "      <td>...</td>\n",
       "      <td>...</td>\n",
       "      <td>...</td>\n",
       "      <td>...</td>\n",
       "      <td>...</td>\n",
       "      <td>...</td>\n",
       "      <td>...</td>\n",
       "      <td>...</td>\n",
       "      <td>...</td>\n",
       "    </tr>\n",
       "    <tr>\n",
       "      <th>9337</th>\n",
       "      <td>9338</td>\n",
       "      <td>15797751</td>\n",
       "      <td>Pai</td>\n",
       "      <td>466</td>\n",
       "      <td>Germany</td>\n",
       "      <td>Female</td>\n",
       "      <td>47</td>\n",
       "      <td>NaN</td>\n",
       "      <td>102085.72</td>\n",
       "      <td>1</td>\n",
       "      <td>1</td>\n",
       "      <td>1</td>\n",
       "      <td>183536.24</td>\n",
       "      <td>1</td>\n",
       "    </tr>\n",
       "    <tr>\n",
       "      <th>9466</th>\n",
       "      <td>9467</td>\n",
       "      <td>15592716</td>\n",
       "      <td>Clarke</td>\n",
       "      <td>559</td>\n",
       "      <td>France</td>\n",
       "      <td>Male</td>\n",
       "      <td>52</td>\n",
       "      <td>NaN</td>\n",
       "      <td>0.00</td>\n",
       "      <td>1</td>\n",
       "      <td>1</td>\n",
       "      <td>0</td>\n",
       "      <td>129013.59</td>\n",
       "      <td>1</td>\n",
       "    </tr>\n",
       "    <tr>\n",
       "      <th>9652</th>\n",
       "      <td>9653</td>\n",
       "      <td>15726720</td>\n",
       "      <td>Blinova</td>\n",
       "      <td>480</td>\n",
       "      <td>France</td>\n",
       "      <td>Female</td>\n",
       "      <td>40</td>\n",
       "      <td>NaN</td>\n",
       "      <td>0.00</td>\n",
       "      <td>1</td>\n",
       "      <td>1</td>\n",
       "      <td>0</td>\n",
       "      <td>170332.67</td>\n",
       "      <td>1</td>\n",
       "    </tr>\n",
       "    <tr>\n",
       "      <th>9858</th>\n",
       "      <td>9859</td>\n",
       "      <td>15619514</td>\n",
       "      <td>Bull</td>\n",
       "      <td>507</td>\n",
       "      <td>Germany</td>\n",
       "      <td>Male</td>\n",
       "      <td>40</td>\n",
       "      <td>NaN</td>\n",
       "      <td>120105.43</td>\n",
       "      <td>1</td>\n",
       "      <td>1</td>\n",
       "      <td>0</td>\n",
       "      <td>92075.01</td>\n",
       "      <td>1</td>\n",
       "    </tr>\n",
       "    <tr>\n",
       "      <th>9956</th>\n",
       "      <td>9957</td>\n",
       "      <td>15707861</td>\n",
       "      <td>Nucci</td>\n",
       "      <td>520</td>\n",
       "      <td>France</td>\n",
       "      <td>Female</td>\n",
       "      <td>46</td>\n",
       "      <td>NaN</td>\n",
       "      <td>85216.61</td>\n",
       "      <td>1</td>\n",
       "      <td>1</td>\n",
       "      <td>0</td>\n",
       "      <td>117369.52</td>\n",
       "      <td>1</td>\n",
       "    </tr>\n",
       "  </tbody>\n",
       "</table>\n",
       "<p>183 rows × 14 columns</p>\n",
       "</div>"
      ],
      "text/plain": [
       "      RowNumber  CustomerId   Surname  CreditScore Geography  Gender  Age  \\\n",
       "30           31    15589475   Azikiwe          591     Spain  Female   39   \n",
       "53           54    15702298  Parkhill          655   Germany    Male   41   \n",
       "125         126    15627360    Fuller          432    France    Male   42   \n",
       "237         238    15764866    Synnot          539   Germany  Female   43   \n",
       "357         358    15661629     Ricci          522     Spain    Male   34   \n",
       "...         ...         ...       ...          ...       ...     ...  ...   \n",
       "9337       9338    15797751       Pai          466   Germany  Female   47   \n",
       "9466       9467    15592716    Clarke          559    France    Male   52   \n",
       "9652       9653    15726720   Blinova          480    France  Female   40   \n",
       "9858       9859    15619514      Bull          507   Germany    Male   40   \n",
       "9956       9957    15707861     Nucci          520    France  Female   46   \n",
       "\n",
       "      Tenure    Balance  NumOfProducts  HasCrCard  IsActiveMember  \\\n",
       "30       NaN       0.00              3          1               0   \n",
       "53       NaN  125561.97              1          0               0   \n",
       "125      NaN  152603.45              1          1               0   \n",
       "237      NaN  116220.50              3          1               0   \n",
       "357      NaN  126436.29              1          1               0   \n",
       "...      ...        ...            ...        ...             ...   \n",
       "9337     NaN  102085.72              1          1               1   \n",
       "9466     NaN       0.00              1          1               0   \n",
       "9652     NaN       0.00              1          1               0   \n",
       "9858     NaN  120105.43              1          1               0   \n",
       "9956     NaN   85216.61              1          1               0   \n",
       "\n",
       "      EstimatedSalary  Exited  \n",
       "30          140469.38       1  \n",
       "53          164040.94       1  \n",
       "125         110265.24       1  \n",
       "237          55803.96       1  \n",
       "357         174248.52       1  \n",
       "...               ...     ...  \n",
       "9337        183536.24       1  \n",
       "9466        129013.59       1  \n",
       "9652        170332.67       1  \n",
       "9858         92075.01       1  \n",
       "9956        117369.52       1  \n",
       "\n",
       "[183 rows x 14 columns]"
      ]
     },
     "execution_count": 17,
     "metadata": {},
     "output_type": "execute_result"
    }
   ],
   "source": [
    "data[data.Tenure.isna() & data.Exited == 1]"
   ]
  },
  {
   "cell_type": "markdown",
   "metadata": {},
   "source": [
    "Гипотеза не подтвердилась. Отсутствие значения не означает, что клиент всё ещё является клиентом банка. Отбросим эти значения."
   ]
  },
  {
   "cell_type": "code",
   "execution_count": 18,
   "metadata": {},
   "outputs": [],
   "source": [
    "data = data[~data.Tenure.isna()]"
   ]
  },
  {
   "cell_type": "code",
   "execution_count": 19,
   "metadata": {},
   "outputs": [
    {
     "data": {
      "text/plain": [
       "(9091, 14)"
      ]
     },
     "execution_count": 19,
     "metadata": {},
     "output_type": "execute_result"
    }
   ],
   "source": [
    "data.shape"
   ]
  },
  {
   "cell_type": "markdown",
   "metadata": {},
   "source": [
    "Закодируем категориальные переменные."
   ]
  },
  {
   "cell_type": "code",
   "execution_count": 20,
   "metadata": {},
   "outputs": [],
   "source": [
    "data = pd.get_dummies(data, drop_first=True, columns=['Geography', 'Gender'])"
   ]
  },
  {
   "cell_type": "code",
   "execution_count": 21,
   "metadata": {},
   "outputs": [
    {
     "data": {
      "text/html": [
       "<div>\n",
       "<style scoped>\n",
       "    .dataframe tbody tr th:only-of-type {\n",
       "        vertical-align: middle;\n",
       "    }\n",
       "\n",
       "    .dataframe tbody tr th {\n",
       "        vertical-align: top;\n",
       "    }\n",
       "\n",
       "    .dataframe thead th {\n",
       "        text-align: right;\n",
       "    }\n",
       "</style>\n",
       "<table border=\"1\" class=\"dataframe\">\n",
       "  <thead>\n",
       "    <tr style=\"text-align: right;\">\n",
       "      <th></th>\n",
       "      <th>RowNumber</th>\n",
       "      <th>CustomerId</th>\n",
       "      <th>Surname</th>\n",
       "      <th>CreditScore</th>\n",
       "      <th>Age</th>\n",
       "      <th>Tenure</th>\n",
       "      <th>Balance</th>\n",
       "      <th>NumOfProducts</th>\n",
       "      <th>HasCrCard</th>\n",
       "      <th>IsActiveMember</th>\n",
       "      <th>EstimatedSalary</th>\n",
       "      <th>Exited</th>\n",
       "      <th>Geography_Germany</th>\n",
       "      <th>Geography_Spain</th>\n",
       "      <th>Gender_Male</th>\n",
       "    </tr>\n",
       "  </thead>\n",
       "  <tbody>\n",
       "    <tr>\n",
       "      <th>0</th>\n",
       "      <td>1</td>\n",
       "      <td>15634602</td>\n",
       "      <td>Hargrave</td>\n",
       "      <td>619</td>\n",
       "      <td>42</td>\n",
       "      <td>2.0</td>\n",
       "      <td>0.00</td>\n",
       "      <td>1</td>\n",
       "      <td>1</td>\n",
       "      <td>1</td>\n",
       "      <td>101348.88</td>\n",
       "      <td>1</td>\n",
       "      <td>0</td>\n",
       "      <td>0</td>\n",
       "      <td>0</td>\n",
       "    </tr>\n",
       "    <tr>\n",
       "      <th>1</th>\n",
       "      <td>2</td>\n",
       "      <td>15647311</td>\n",
       "      <td>Hill</td>\n",
       "      <td>608</td>\n",
       "      <td>41</td>\n",
       "      <td>1.0</td>\n",
       "      <td>83807.86</td>\n",
       "      <td>1</td>\n",
       "      <td>0</td>\n",
       "      <td>1</td>\n",
       "      <td>112542.58</td>\n",
       "      <td>0</td>\n",
       "      <td>0</td>\n",
       "      <td>1</td>\n",
       "      <td>0</td>\n",
       "    </tr>\n",
       "    <tr>\n",
       "      <th>2</th>\n",
       "      <td>3</td>\n",
       "      <td>15619304</td>\n",
       "      <td>Onio</td>\n",
       "      <td>502</td>\n",
       "      <td>42</td>\n",
       "      <td>8.0</td>\n",
       "      <td>159660.80</td>\n",
       "      <td>3</td>\n",
       "      <td>1</td>\n",
       "      <td>0</td>\n",
       "      <td>113931.57</td>\n",
       "      <td>1</td>\n",
       "      <td>0</td>\n",
       "      <td>0</td>\n",
       "      <td>0</td>\n",
       "    </tr>\n",
       "    <tr>\n",
       "      <th>3</th>\n",
       "      <td>4</td>\n",
       "      <td>15701354</td>\n",
       "      <td>Boni</td>\n",
       "      <td>699</td>\n",
       "      <td>39</td>\n",
       "      <td>1.0</td>\n",
       "      <td>0.00</td>\n",
       "      <td>2</td>\n",
       "      <td>0</td>\n",
       "      <td>0</td>\n",
       "      <td>93826.63</td>\n",
       "      <td>0</td>\n",
       "      <td>0</td>\n",
       "      <td>0</td>\n",
       "      <td>0</td>\n",
       "    </tr>\n",
       "    <tr>\n",
       "      <th>4</th>\n",
       "      <td>5</td>\n",
       "      <td>15737888</td>\n",
       "      <td>Mitchell</td>\n",
       "      <td>850</td>\n",
       "      <td>43</td>\n",
       "      <td>2.0</td>\n",
       "      <td>125510.82</td>\n",
       "      <td>1</td>\n",
       "      <td>1</td>\n",
       "      <td>1</td>\n",
       "      <td>79084.10</td>\n",
       "      <td>0</td>\n",
       "      <td>0</td>\n",
       "      <td>1</td>\n",
       "      <td>0</td>\n",
       "    </tr>\n",
       "  </tbody>\n",
       "</table>\n",
       "</div>"
      ],
      "text/plain": [
       "   RowNumber  CustomerId   Surname  CreditScore  Age  Tenure    Balance  \\\n",
       "0          1    15634602  Hargrave          619   42     2.0       0.00   \n",
       "1          2    15647311      Hill          608   41     1.0   83807.86   \n",
       "2          3    15619304      Onio          502   42     8.0  159660.80   \n",
       "3          4    15701354      Boni          699   39     1.0       0.00   \n",
       "4          5    15737888  Mitchell          850   43     2.0  125510.82   \n",
       "\n",
       "   NumOfProducts  HasCrCard  IsActiveMember  EstimatedSalary  Exited  \\\n",
       "0              1          1               1        101348.88       1   \n",
       "1              1          0               1        112542.58       0   \n",
       "2              3          1               0        113931.57       1   \n",
       "3              2          0               0         93826.63       0   \n",
       "4              1          1               1         79084.10       0   \n",
       "\n",
       "   Geography_Germany  Geography_Spain  Gender_Male  \n",
       "0                  0                0            0  \n",
       "1                  0                1            0  \n",
       "2                  0                0            0  \n",
       "3                  0                0            0  \n",
       "4                  0                1            0  "
      ]
     },
     "execution_count": 21,
     "metadata": {},
     "output_type": "execute_result"
    }
   ],
   "source": [
    "data.head()"
   ]
  },
  {
   "cell_type": "code",
   "execution_count": 22,
   "metadata": {},
   "outputs": [
    {
     "data": {
      "text/plain": [
       "(9091, 15)"
      ]
     },
     "execution_count": 22,
     "metadata": {},
     "output_type": "execute_result"
    }
   ],
   "source": [
    "data.shape"
   ]
  },
  {
   "cell_type": "markdown",
   "metadata": {},
   "source": [
    "Уберём лишние столбцы."
   ]
  },
  {
   "cell_type": "code",
   "execution_count": 23,
   "metadata": {},
   "outputs": [],
   "source": [
    "data = data.drop(['RowNumber', 'CustomerId', 'Surname'], axis=1)"
   ]
  },
  {
   "cell_type": "code",
   "execution_count": 24,
   "metadata": {},
   "outputs": [
    {
     "data": {
      "text/html": [
       "<div>\n",
       "<style scoped>\n",
       "    .dataframe tbody tr th:only-of-type {\n",
       "        vertical-align: middle;\n",
       "    }\n",
       "\n",
       "    .dataframe tbody tr th {\n",
       "        vertical-align: top;\n",
       "    }\n",
       "\n",
       "    .dataframe thead th {\n",
       "        text-align: right;\n",
       "    }\n",
       "</style>\n",
       "<table border=\"1\" class=\"dataframe\">\n",
       "  <thead>\n",
       "    <tr style=\"text-align: right;\">\n",
       "      <th></th>\n",
       "      <th>CreditScore</th>\n",
       "      <th>Age</th>\n",
       "      <th>Tenure</th>\n",
       "      <th>Balance</th>\n",
       "      <th>NumOfProducts</th>\n",
       "      <th>HasCrCard</th>\n",
       "      <th>IsActiveMember</th>\n",
       "      <th>EstimatedSalary</th>\n",
       "      <th>Exited</th>\n",
       "      <th>Geography_Germany</th>\n",
       "      <th>Geography_Spain</th>\n",
       "      <th>Gender_Male</th>\n",
       "    </tr>\n",
       "  </thead>\n",
       "  <tbody>\n",
       "    <tr>\n",
       "      <th>0</th>\n",
       "      <td>619</td>\n",
       "      <td>42</td>\n",
       "      <td>2.0</td>\n",
       "      <td>0.00</td>\n",
       "      <td>1</td>\n",
       "      <td>1</td>\n",
       "      <td>1</td>\n",
       "      <td>101348.88</td>\n",
       "      <td>1</td>\n",
       "      <td>0</td>\n",
       "      <td>0</td>\n",
       "      <td>0</td>\n",
       "    </tr>\n",
       "    <tr>\n",
       "      <th>1</th>\n",
       "      <td>608</td>\n",
       "      <td>41</td>\n",
       "      <td>1.0</td>\n",
       "      <td>83807.86</td>\n",
       "      <td>1</td>\n",
       "      <td>0</td>\n",
       "      <td>1</td>\n",
       "      <td>112542.58</td>\n",
       "      <td>0</td>\n",
       "      <td>0</td>\n",
       "      <td>1</td>\n",
       "      <td>0</td>\n",
       "    </tr>\n",
       "    <tr>\n",
       "      <th>2</th>\n",
       "      <td>502</td>\n",
       "      <td>42</td>\n",
       "      <td>8.0</td>\n",
       "      <td>159660.80</td>\n",
       "      <td>3</td>\n",
       "      <td>1</td>\n",
       "      <td>0</td>\n",
       "      <td>113931.57</td>\n",
       "      <td>1</td>\n",
       "      <td>0</td>\n",
       "      <td>0</td>\n",
       "      <td>0</td>\n",
       "    </tr>\n",
       "    <tr>\n",
       "      <th>3</th>\n",
       "      <td>699</td>\n",
       "      <td>39</td>\n",
       "      <td>1.0</td>\n",
       "      <td>0.00</td>\n",
       "      <td>2</td>\n",
       "      <td>0</td>\n",
       "      <td>0</td>\n",
       "      <td>93826.63</td>\n",
       "      <td>0</td>\n",
       "      <td>0</td>\n",
       "      <td>0</td>\n",
       "      <td>0</td>\n",
       "    </tr>\n",
       "    <tr>\n",
       "      <th>4</th>\n",
       "      <td>850</td>\n",
       "      <td>43</td>\n",
       "      <td>2.0</td>\n",
       "      <td>125510.82</td>\n",
       "      <td>1</td>\n",
       "      <td>1</td>\n",
       "      <td>1</td>\n",
       "      <td>79084.10</td>\n",
       "      <td>0</td>\n",
       "      <td>0</td>\n",
       "      <td>1</td>\n",
       "      <td>0</td>\n",
       "    </tr>\n",
       "  </tbody>\n",
       "</table>\n",
       "</div>"
      ],
      "text/plain": [
       "   CreditScore  Age  Tenure    Balance  NumOfProducts  HasCrCard  \\\n",
       "0          619   42     2.0       0.00              1          1   \n",
       "1          608   41     1.0   83807.86              1          0   \n",
       "2          502   42     8.0  159660.80              3          1   \n",
       "3          699   39     1.0       0.00              2          0   \n",
       "4          850   43     2.0  125510.82              1          1   \n",
       "\n",
       "   IsActiveMember  EstimatedSalary  Exited  Geography_Germany  \\\n",
       "0               1        101348.88       1                  0   \n",
       "1               1        112542.58       0                  0   \n",
       "2               0        113931.57       1                  0   \n",
       "3               0         93826.63       0                  0   \n",
       "4               1         79084.10       0                  0   \n",
       "\n",
       "   Geography_Spain  Gender_Male  \n",
       "0                0            0  \n",
       "1                1            0  \n",
       "2                0            0  \n",
       "3                0            0  \n",
       "4                1            0  "
      ]
     },
     "execution_count": 24,
     "metadata": {},
     "output_type": "execute_result"
    }
   ],
   "source": [
    "data.head()"
   ]
  },
  {
   "cell_type": "markdown",
   "metadata": {},
   "source": [
    "Посмотрим на баланс классов."
   ]
  },
  {
   "cell_type": "code",
   "execution_count": 25,
   "metadata": {},
   "outputs": [
    {
     "data": {
      "text/plain": [
       "0.7960620393796062"
      ]
     },
     "execution_count": 25,
     "metadata": {},
     "output_type": "execute_result"
    }
   ],
   "source": [
    "len(data[data.Exited == 0]) / len(data)"
   ]
  },
  {
   "cell_type": "markdown",
   "metadata": {},
   "source": [
    "Датасет не сбалансирован."
   ]
  },
  {
   "cell_type": "markdown",
   "metadata": {},
   "source": [
    "Разобьём наши данные на обучающую, валидационную и тестовую выборки."
   ]
  },
  {
   "cell_type": "code",
   "execution_count": 26,
   "metadata": {},
   "outputs": [],
   "source": [
    "target = data['Exited']\n",
    "features = data.drop('Exited', axis=1)"
   ]
  },
  {
   "cell_type": "code",
   "execution_count": 27,
   "metadata": {},
   "outputs": [],
   "source": [
    "RANDOM_STATE = 12345"
   ]
  },
  {
   "cell_type": "code",
   "execution_count": 30,
   "metadata": {},
   "outputs": [],
   "source": [
    "features_train, features_tv, target_train, target_tv = train_test_split(\n",
    "features, target, train_size=0.6, random_state=RANDOM_STATE, stratify=target)"
   ]
  },
  {
   "cell_type": "code",
   "execution_count": 31,
   "metadata": {},
   "outputs": [],
   "source": [
    "features_valid, features_test, target_valid, target_test = train_test_split(\n",
    "features_tv, target_tv, test_size=0.5, random_state=RANDOM_STATE, stratify=target_tv)"
   ]
  },
  {
   "cell_type": "markdown",
   "metadata": {},
   "source": [
    "## Исследование задачи"
   ]
  },
  {
   "cell_type": "markdown",
   "metadata": {},
   "source": [
    "Начнём с dummy-классификатора, чтобы у нас был некоторый baseline."
   ]
  },
  {
   "cell_type": "code",
   "execution_count": 32,
   "metadata": {},
   "outputs": [],
   "source": [
    "dummy = DummyClassifier(random_state=12345)"
   ]
  },
  {
   "cell_type": "code",
   "execution_count": 33,
   "metadata": {},
   "outputs": [
    {
     "data": {
      "text/plain": [
       "DummyClassifier(random_state=12345)"
      ]
     },
     "execution_count": 33,
     "metadata": {},
     "output_type": "execute_result"
    }
   ],
   "source": [
    "dummy.fit(features_train, target_train)"
   ]
  },
  {
   "cell_type": "code",
   "execution_count": 34,
   "metadata": {},
   "outputs": [],
   "source": [
    "preds = dummy.predict(features_valid)"
   ]
  },
  {
   "cell_type": "code",
   "execution_count": 35,
   "metadata": {},
   "outputs": [
    {
     "data": {
      "text/plain": [
       "0.0"
      ]
     },
     "execution_count": 35,
     "metadata": {},
     "output_type": "execute_result"
    }
   ],
   "source": [
    "f1_score(target_valid, preds)"
   ]
  },
  {
   "cell_type": "code",
   "execution_count": 36,
   "metadata": {},
   "outputs": [
    {
     "data": {
      "text/plain": [
       "0.5"
      ]
     },
     "execution_count": 36,
     "metadata": {},
     "output_type": "execute_result"
    }
   ],
   "source": [
    "roc_auc_score(target_valid, preds)"
   ]
  },
  {
   "cell_type": "markdown",
   "metadata": {},
   "source": [
    "Предсказуемо."
   ]
  },
  {
   "cell_type": "markdown",
   "metadata": {},
   "source": [
    "Попробуем обучить случайный лес."
   ]
  },
  {
   "cell_type": "code",
   "execution_count": 105,
   "metadata": {},
   "outputs": [],
   "source": [
    "rf = RandomForestClassifier(random_state=12345)"
   ]
  },
  {
   "cell_type": "code",
   "execution_count": 106,
   "metadata": {},
   "outputs": [
    {
     "data": {
      "text/plain": [
       "RandomForestClassifier(random_state=12345)"
      ]
     },
     "execution_count": 106,
     "metadata": {},
     "output_type": "execute_result"
    }
   ],
   "source": [
    "rf.fit(features_train, target_train)"
   ]
  },
  {
   "cell_type": "code",
   "execution_count": 107,
   "metadata": {},
   "outputs": [],
   "source": [
    "preds = rf.predict(features_valid)"
   ]
  },
  {
   "cell_type": "code",
   "execution_count": 108,
   "metadata": {},
   "outputs": [
    {
     "data": {
      "text/plain": [
       "0.6019736842105263"
      ]
     },
     "execution_count": 108,
     "metadata": {},
     "output_type": "execute_result"
    }
   ],
   "source": [
    "f1_score(target_valid, preds)"
   ]
  },
  {
   "cell_type": "code",
   "execution_count": 117,
   "metadata": {},
   "outputs": [],
   "source": [
    "cm = confusion_matrix(target_valid, preds)"
   ]
  },
  {
   "cell_type": "code",
   "execution_count": 123,
   "metadata": {},
   "outputs": [
    {
     "data": {
      "image/png": "[encoded data removed]",
      "text/plain": [
       "<Figure size 432x288 with 2 Axes>"
      ]
     },
     "metadata": {
      "needs_background": "light"
     },
     "output_type": "display_data"
    }
   ],
   "source": [
    "disp = ConfusionMatrixDisplay(confusion_matrix=cm)\n",
    "disp.plot();"
   ]
  },
  {
   "cell_type": "code",
   "execution_count": 124,
   "metadata": {},
   "outputs": [
    {
     "data": {
      "text/plain": [
       "0.7279714326695068"
      ]
     },
     "execution_count": 124,
     "metadata": {},
     "output_type": "execute_result"
    }
   ],
   "source": [
    "roc_auc_score(target_valid, preds)"
   ]
  },
  {
   "cell_type": "markdown",
   "metadata": {},
   "source": [
    "Очень хороший результат. Попробуем логистическую регрессию."
   ]
  },
  {
   "cell_type": "code",
   "execution_count": 125,
   "metadata": {},
   "outputs": [],
   "source": [
    "lr = LogisticRegression(random_state=12345)"
   ]
  },
  {
   "cell_type": "code",
   "execution_count": 126,
   "metadata": {},
   "outputs": [
    {
     "data": {
      "text/plain": [
       "LogisticRegression(random_state=12345)"
      ]
     },
     "execution_count": 126,
     "metadata": {},
     "output_type": "execute_result"
    }
   ],
   "source": [
    "lr.fit(features_train, target_train)"
   ]
  },
  {
   "cell_type": "code",
   "execution_count": 127,
   "metadata": {},
   "outputs": [],
   "source": [
    "preds = lr.predict(features_valid)"
   ]
  },
  {
   "cell_type": "code",
   "execution_count": 128,
   "metadata": {},
   "outputs": [
    {
     "data": {
      "text/plain": [
       "0.07637231503579953"
      ]
     },
     "execution_count": 128,
     "metadata": {},
     "output_type": "execute_result"
    }
   ],
   "source": [
    "f1_score(target_valid, preds)"
   ]
  },
  {
   "cell_type": "code",
   "execution_count": 130,
   "metadata": {},
   "outputs": [],
   "source": [
    "cm = confusion_matrix(target_valid, preds)"
   ]
  },
  {
   "cell_type": "code",
   "execution_count": 131,
   "metadata": {},
   "outputs": [
    {
     "data": {
      "image/png": "[encoded data removed]",
      "text/plain": [
       "<Figure size 432x288 with 2 Axes>"
      ]
     },
     "metadata": {
      "needs_background": "light"
     },
     "output_type": "display_data"
    }
   ],
   "source": [
    "disp = ConfusionMatrixDisplay(confusion_matrix=cm)\n",
    "disp.plot();"
   ]
  },
  {
   "cell_type": "code",
   "execution_count": 132,
   "metadata": {},
   "outputs": [
    {
     "data": {
      "text/plain": [
       "0.5105059822627726"
      ]
     },
     "execution_count": 132,
     "metadata": {},
     "output_type": "execute_result"
    }
   ],
   "source": [
    "roc_auc_score(target_valid, preds)"
   ]
  },
  {
   "cell_type": "markdown",
   "metadata": {},
   "source": [
    "Попробуем настроить гиперпараметры."
   ]
  },
  {
   "cell_type": "code",
   "execution_count": 133,
   "metadata": {},
   "outputs": [],
   "source": [
    "lr = LogisticRegression(random_state=12345, solver='liblinear', penalty='l1')"
   ]
  },
  {
   "cell_type": "code",
   "execution_count": 134,
   "metadata": {},
   "outputs": [
    {
     "data": {
      "text/plain": [
       "LogisticRegression(penalty='l1', random_state=12345, solver='liblinear')"
      ]
     },
     "execution_count": 134,
     "metadata": {},
     "output_type": "execute_result"
    }
   ],
   "source": [
    "lr.fit(features_train, target_train)"
   ]
  },
  {
   "cell_type": "code",
   "execution_count": 135,
   "metadata": {},
   "outputs": [],
   "source": [
    "preds = lr.predict(features_valid)"
   ]
  },
  {
   "cell_type": "code",
   "execution_count": 136,
   "metadata": {},
   "outputs": [
    {
     "data": {
      "text/plain": [
       "0.32399999999999995"
      ]
     },
     "execution_count": 136,
     "metadata": {},
     "output_type": "execute_result"
    }
   ],
   "source": [
    "f1_score(target_valid, preds)"
   ]
  },
  {
   "cell_type": "code",
   "execution_count": 138,
   "metadata": {},
   "outputs": [],
   "source": [
    "cm = confusion_matrix(target_valid, preds)"
   ]
  },
  {
   "cell_type": "code",
   "execution_count": 139,
   "metadata": {},
   "outputs": [
    {
     "data": {
      "image/png": "[encoded data removed]",
      "text/plain": [
       "<Figure size 432x288 with 2 Axes>"
      ]
     },
     "metadata": {
      "needs_background": "light"
     },
     "output_type": "display_data"
    }
   ],
   "source": [
    "disp = ConfusionMatrixDisplay(confusion_matrix=cm)\n",
    "disp.plot();"
   ]
  },
  {
   "cell_type": "code",
   "execution_count": 140,
   "metadata": {},
   "outputs": [
    {
     "data": {
      "text/plain": [
       "0.592578380402245"
      ]
     },
     "execution_count": 140,
     "metadata": {},
     "output_type": "execute_result"
    }
   ],
   "source": [
    "roc_auc_score(target_valid, preds)"
   ]
  },
  {
   "cell_type": "markdown",
   "metadata": {},
   "source": [
    "Стало немного лучше. Попробуем алгоритм K-ближайших соседей."
   ]
  },
  {
   "cell_type": "code",
   "execution_count": 141,
   "metadata": {},
   "outputs": [],
   "source": [
    "knn = KNeighborsClassifier()"
   ]
  },
  {
   "cell_type": "code",
   "execution_count": 142,
   "metadata": {},
   "outputs": [
    {
     "data": {
      "text/plain": [
       "KNeighborsClassifier()"
      ]
     },
     "execution_count": 142,
     "metadata": {},
     "output_type": "execute_result"
    }
   ],
   "source": [
    "knn.fit(features_train, target_train)"
   ]
  },
  {
   "cell_type": "code",
   "execution_count": 143,
   "metadata": {},
   "outputs": [
    {
     "name": "stderr",
     "output_type": "stream",
     "text": [
      "/opt/conda/lib/python3.9/site-packages/sklearn/neighbors/_classification.py:211: FutureWarning: Unlike other reduction functions (e.g. `skew`, `kurtosis`), the default behavior of `mode` typically preserves the axis it acts along. In SciPy 1.11.0, this behavior will change: the default value of `keepdims` will become False, the `axis` over which the statistic is taken will be eliminated, and the value None will no longer be accepted. Set `keepdims` to True or False to avoid this warning.\n",
      "  mode, _ = stats.mode(_y[neigh_ind, k], axis=1)\n"
     ]
    }
   ],
   "source": [
    "preds = knn.predict(features_valid)"
   ]
  },
  {
   "cell_type": "code",
   "execution_count": 144,
   "metadata": {},
   "outputs": [
    {
     "data": {
      "text/plain": [
       "0.10141987829614603"
      ]
     },
     "execution_count": 144,
     "metadata": {},
     "output_type": "execute_result"
    }
   ],
   "source": [
    "f1_score(target_valid, preds)"
   ]
  },
  {
   "cell_type": "code",
   "execution_count": 146,
   "metadata": {},
   "outputs": [],
   "source": [
    "cm = confusion_matrix(target_valid, preds)"
   ]
  },
  {
   "cell_type": "code",
   "execution_count": 147,
   "metadata": {},
   "outputs": [
    {
     "data": {
      "image/png": "[encoded data removed]",
      "text/plain": [
       "<Figure size 432x288 with 2 Axes>"
      ]
     },
     "metadata": {
      "needs_background": "light"
     },
     "output_type": "display_data"
    }
   ],
   "source": [
    "disp = ConfusionMatrixDisplay(confusion_matrix=cm)\n",
    "disp.plot();"
   ]
  },
  {
   "cell_type": "code",
   "execution_count": 148,
   "metadata": {},
   "outputs": [
    {
     "data": {
      "text/plain": [
       "0.5001750997043796"
      ]
     },
     "execution_count": 148,
     "metadata": {},
     "output_type": "execute_result"
    }
   ],
   "source": [
    "roc_auc_score(target_valid, preds)"
   ]
  },
  {
   "cell_type": "markdown",
   "metadata": {},
   "source": [
    "Невысокий результат."
   ]
  },
  {
   "cell_type": "markdown",
   "metadata": {},
   "source": [
    "Были рассмотрены 3 алгоритма: случайный лес, логистическая регрессия и K-ближайших соседей. Наилучшие результаты показал первый алгоритм. Однако, желаемый результат дотигнут не был, следовательно, необходимо обратитьсяк методом борьбы с дисбалансом."
   ]
  },
  {
   "cell_type": "markdown",
   "metadata": {},
   "source": [
    "## Борьба с дисбалансом"
   ]
  },
  {
   "cell_type": "markdown",
   "metadata": {},
   "source": [
    "Попробуем сбалансировать классы."
   ]
  },
  {
   "cell_type": "code",
   "execution_count": 149,
   "metadata": {},
   "outputs": [],
   "source": [
    "rf_balanced = RandomForestClassifier(random_state=12345, class_weight='balanced')"
   ]
  },
  {
   "cell_type": "code",
   "execution_count": 150,
   "metadata": {},
   "outputs": [
    {
     "data": {
      "text/plain": [
       "RandomForestClassifier(class_weight='balanced', random_state=12345)"
      ]
     },
     "execution_count": 150,
     "metadata": {},
     "output_type": "execute_result"
    }
   ],
   "source": [
    "rf_balanced.fit(features_train, target_train)"
   ]
  },
  {
   "cell_type": "code",
   "execution_count": 151,
   "metadata": {},
   "outputs": [],
   "source": [
    "preds = rf_balanced.predict(features_valid)"
   ]
  },
  {
   "cell_type": "code",
   "execution_count": 152,
   "metadata": {},
   "outputs": [
    {
     "data": {
      "text/plain": [
       "0.5733788395904437"
      ]
     },
     "execution_count": 152,
     "metadata": {},
     "output_type": "execute_result"
    }
   ],
   "source": [
    "f1_score(target_valid, preds)"
   ]
  },
  {
   "cell_type": "code",
   "execution_count": 154,
   "metadata": {},
   "outputs": [],
   "source": [
    "cm = confusion_matrix(target_valid, preds)"
   ]
  },
  {
   "cell_type": "code",
   "execution_count": 155,
   "metadata": {},
   "outputs": [
    {
     "data": {
      "image/png": "[encoded data removed]",
      "text/plain": [
       "<Figure size 432x288 with 2 Axes>"
      ]
     },
     "metadata": {
      "needs_background": "light"
     },
     "output_type": "display_data"
    }
   ],
   "source": [
    "disp = ConfusionMatrixDisplay(confusion_matrix=cm)\n",
    "disp.plot();"
   ]
  },
  {
   "cell_type": "code",
   "execution_count": 156,
   "metadata": {},
   "outputs": [
    {
     "data": {
      "text/plain": [
       "0.7101745967584201"
      ]
     },
     "execution_count": 156,
     "metadata": {},
     "output_type": "execute_result"
    }
   ],
   "source": [
    "roc_auc_score(target_valid, preds)"
   ]
  },
  {
   "cell_type": "markdown",
   "metadata": {},
   "source": [
    "Результат несколько ухудшился в сравнении с несбалансированным алгоритмом. Попробуем настроить гиперпараметры."
   ]
  },
  {
   "cell_type": "code",
   "execution_count": 62,
   "metadata": {},
   "outputs": [],
   "source": [
    "ests = linspace(100, 1000, 10, dtype=int)"
   ]
  },
  {
   "cell_type": "code",
   "execution_count": 63,
   "metadata": {},
   "outputs": [],
   "source": [
    "crits = ('gini', 'entropy')"
   ]
  },
  {
   "cell_type": "code",
   "execution_count": 64,
   "metadata": {},
   "outputs": [],
   "source": [
    "params = {'n_estimators': ests, 'criterion': crits}"
   ]
  },
  {
   "cell_type": "code",
   "execution_count": 65,
   "metadata": {},
   "outputs": [],
   "source": [
    "rf_balanced = RandomForestClassifier(random_state=12345, class_weight='balanced')"
   ]
  },
  {
   "cell_type": "code",
   "execution_count": 66,
   "metadata": {},
   "outputs": [],
   "source": [
    "clf = GridSearchCV(estimator=rf_balanced, param_grid=params, verbose=3, scoring='f1')"
   ]
  },
  {
   "cell_type": "code",
   "execution_count": 67,
   "metadata": {},
   "outputs": [
    {
     "name": "stdout",
     "output_type": "stream",
     "text": [
      "Fitting 5 folds for each of 20 candidates, totalling 100 fits\n",
      "[CV 1/5] END ...............criterion=gini, n_estimators=100; total time=   0.5s\n",
      "[CV 2/5] END ...............criterion=gini, n_estimators=100; total time=   0.5s\n",
      "[CV 3/5] END ...............criterion=gini, n_estimators=100; total time=   0.5s\n",
      "[CV 4/5] END ...............criterion=gini, n_estimators=100; total time=   0.5s\n",
      "[CV 5/5] END ...............criterion=gini, n_estimators=100; total time=   0.5s\n",
      "[CV 1/5] END ...............criterion=gini, n_estimators=200; total time=   1.1s\n",
      "[CV 2/5] END ...............criterion=gini, n_estimators=200; total time=   1.1s\n",
      "[CV 3/5] END ...............criterion=gini, n_estimators=200; total time=   1.1s\n",
      "[CV 4/5] END ...............criterion=gini, n_estimators=200; total time=   1.1s\n",
      "[CV 5/5] END ...............criterion=gini, n_estimators=200; total time=   1.1s\n",
      "[CV 1/5] END ...............criterion=gini, n_estimators=300; total time=   1.6s\n",
      "[CV 2/5] END ...............criterion=gini, n_estimators=300; total time=   1.6s\n",
      "[CV 3/5] END ...............criterion=gini, n_estimators=300; total time=   1.6s\n",
      "[CV 4/5] END ...............criterion=gini, n_estimators=300; total time=   1.6s\n",
      "[CV 5/5] END ...............criterion=gini, n_estimators=300; total time=   1.6s\n",
      "[CV 1/5] END ...............criterion=gini, n_estimators=400; total time=   2.2s\n",
      "[CV 2/5] END ...............criterion=gini, n_estimators=400; total time=   2.1s\n",
      "[CV 3/5] END ...............criterion=gini, n_estimators=400; total time=   2.1s\n",
      "[CV 4/5] END ...............criterion=gini, n_estimators=400; total time=   2.1s\n",
      "[CV 5/5] END ...............criterion=gini, n_estimators=400; total time=   2.1s\n",
      "[CV 1/5] END ...............criterion=gini, n_estimators=500; total time=   2.7s\n",
      "[CV 2/5] END ...............criterion=gini, n_estimators=500; total time=   2.8s\n",
      "[CV 3/5] END ...............criterion=gini, n_estimators=500; total time=   2.7s\n",
      "[CV 4/5] END ...............criterion=gini, n_estimators=500; total time=   2.7s\n",
      "[CV 5/5] END ...............criterion=gini, n_estimators=500; total time=   2.7s\n",
      "[CV 1/5] END ...............criterion=gini, n_estimators=600; total time=   3.2s\n",
      "[CV 2/5] END ...............criterion=gini, n_estimators=600; total time=   3.2s\n",
      "[CV 3/5] END ...............criterion=gini, n_estimators=600; total time=   3.3s\n",
      "[CV 4/5] END ...............criterion=gini, n_estimators=600; total time=   3.2s\n",
      "[CV 5/5] END ...............criterion=gini, n_estimators=600; total time=   3.2s\n",
      "[CV 1/5] END ...............criterion=gini, n_estimators=700; total time=   3.8s\n",
      "[CV 2/5] END ...............criterion=gini, n_estimators=700; total time=   3.8s\n",
      "[CV 3/5] END ...............criterion=gini, n_estimators=700; total time=   3.8s\n",
      "[CV 4/5] END ...............criterion=gini, n_estimators=700; total time=   3.8s\n",
      "[CV 5/5] END ...............criterion=gini, n_estimators=700; total time=   3.8s\n",
      "[CV 1/5] END ...............criterion=gini, n_estimators=800; total time=   4.3s\n",
      "[CV 2/5] END ...............criterion=gini, n_estimators=800; total time=   4.3s\n",
      "[CV 3/5] END ...............criterion=gini, n_estimators=800; total time=   4.3s\n",
      "[CV 4/5] END ...............criterion=gini, n_estimators=800; total time=   4.3s\n",
      "[CV 5/5] END ...............criterion=gini, n_estimators=800; total time=   4.3s\n",
      "[CV 1/5] END ...............criterion=gini, n_estimators=900; total time=   4.9s\n",
      "[CV 2/5] END ...............criterion=gini, n_estimators=900; total time=   4.9s\n",
      "[CV 3/5] END ...............criterion=gini, n_estimators=900; total time=   4.9s\n",
      "[CV 4/5] END ...............criterion=gini, n_estimators=900; total time=   4.9s\n",
      "[CV 5/5] END ...............criterion=gini, n_estimators=900; total time=   4.8s\n",
      "[CV 1/5] END ..............criterion=gini, n_estimators=1000; total time=   5.4s\n",
      "[CV 2/5] END ..............criterion=gini, n_estimators=1000; total time=   5.5s\n",
      "[CV 3/5] END ..............criterion=gini, n_estimators=1000; total time=   5.4s\n",
      "[CV 4/5] END ..............criterion=gini, n_estimators=1000; total time=   5.3s\n",
      "[CV 5/5] END ..............criterion=gini, n_estimators=1000; total time=   5.4s\n",
      "[CV 1/5] END ............criterion=entropy, n_estimators=100; total time=   0.6s\n",
      "[CV 2/5] END ............criterion=entropy, n_estimators=100; total time=   0.6s\n",
      "[CV 3/5] END ............criterion=entropy, n_estimators=100; total time=   0.6s\n",
      "[CV 4/5] END ............criterion=entropy, n_estimators=100; total time=   0.6s\n",
      "[CV 5/5] END ............criterion=entropy, n_estimators=100; total time=   0.7s\n",
      "[CV 1/5] END ............criterion=entropy, n_estimators=200; total time=   1.2s\n",
      "[CV 2/5] END ............criterion=entropy, n_estimators=200; total time=   1.3s\n",
      "[CV 3/5] END ............criterion=entropy, n_estimators=200; total time=   1.3s\n",
      "[CV 4/5] END ............criterion=entropy, n_estimators=200; total time=   1.3s\n",
      "[CV 5/5] END ............criterion=entropy, n_estimators=200; total time=   1.3s\n",
      "[CV 1/5] END ............criterion=entropy, n_estimators=300; total time=   1.9s\n",
      "[CV 2/5] END ............criterion=entropy, n_estimators=300; total time=   1.9s\n",
      "[CV 3/5] END ............criterion=entropy, n_estimators=300; total time=   1.9s\n",
      "[CV 4/5] END ............criterion=entropy, n_estimators=300; total time=   2.0s\n",
      "[CV 5/5] END ............criterion=entropy, n_estimators=300; total time=   2.0s\n",
      "[CV 1/5] END ............criterion=entropy, n_estimators=400; total time=   2.6s\n",
      "[CV 2/5] END ............criterion=entropy, n_estimators=400; total time=   2.6s\n",
      "[CV 3/5] END ............criterion=entropy, n_estimators=400; total time=   2.6s\n",
      "[CV 4/5] END ............criterion=entropy, n_estimators=400; total time=   2.7s\n",
      "[CV 5/5] END ............criterion=entropy, n_estimators=400; total time=   2.7s\n",
      "[CV 1/5] END ............criterion=entropy, n_estimators=500; total time=   3.3s\n",
      "[CV 2/5] END ............criterion=entropy, n_estimators=500; total time=   3.4s\n",
      "[CV 3/5] END ............criterion=entropy, n_estimators=500; total time=   3.3s\n",
      "[CV 4/5] END ............criterion=entropy, n_estimators=500; total time=   3.3s\n",
      "[CV 5/5] END ............criterion=entropy, n_estimators=500; total time=   3.2s\n",
      "[CV 1/5] END ............criterion=entropy, n_estimators=600; total time=   3.7s\n",
      "[CV 2/5] END ............criterion=entropy, n_estimators=600; total time=   3.7s\n",
      "[CV 3/5] END ............criterion=entropy, n_estimators=600; total time=   3.8s\n",
      "[CV 4/5] END ............criterion=entropy, n_estimators=600; total time=   3.9s\n",
      "[CV 5/5] END ............criterion=entropy, n_estimators=600; total time=   3.8s\n",
      "[CV 1/5] END ............criterion=entropy, n_estimators=700; total time=   4.5s\n",
      "[CV 2/5] END ............criterion=entropy, n_estimators=700; total time=   4.4s\n",
      "[CV 3/5] END ............criterion=entropy, n_estimators=700; total time=   4.4s\n",
      "[CV 4/5] END ............criterion=entropy, n_estimators=700; total time=   4.4s\n",
      "[CV 5/5] END ............criterion=entropy, n_estimators=700; total time=   4.5s\n",
      "[CV 1/5] END ............criterion=entropy, n_estimators=800; total time=   5.0s\n",
      "[CV 2/5] END ............criterion=entropy, n_estimators=800; total time=   5.4s\n",
      "[CV 3/5] END ............criterion=entropy, n_estimators=800; total time=   5.4s\n",
      "[CV 4/5] END ............criterion=entropy, n_estimators=800; total time=   5.4s\n",
      "[CV 5/5] END ............criterion=entropy, n_estimators=800; total time=   5.2s\n",
      "[CV 1/5] END ............criterion=entropy, n_estimators=900; total time=   5.9s\n",
      "[CV 2/5] END ............criterion=entropy, n_estimators=900; total time=   5.8s\n",
      "[CV 3/5] END ............criterion=entropy, n_estimators=900; total time=   5.9s\n",
      "[CV 4/5] END ............criterion=entropy, n_estimators=900; total time=   5.9s\n",
      "[CV 5/5] END ............criterion=entropy, n_estimators=900; total time=   5.8s\n",
      "[CV 1/5] END ...........criterion=entropy, n_estimators=1000; total time=   6.6s\n",
      "[CV 2/5] END ...........criterion=entropy, n_estimators=1000; total time=   6.9s\n",
      "[CV 3/5] END ...........criterion=entropy, n_estimators=1000; total time=   6.7s\n",
      "[CV 4/5] END ...........criterion=entropy, n_estimators=1000; total time=   6.7s\n",
      "[CV 5/5] END ...........criterion=entropy, n_estimators=1000; total time=   6.5s\n"
     ]
    },
    {
     "data": {
      "text/plain": [
       "GridSearchCV(estimator=RandomForestClassifier(class_weight='balanced',\n",
       "                                              random_state=12345),\n",
       "             param_grid={'criterion': ('gini', 'entropy'),\n",
       "                         'n_estimators': array([ 100,  200,  300,  400,  500,  600,  700,  800,  900, 1000])},\n",
       "             scoring='f1', verbose=3)"
      ]
     },
     "execution_count": 67,
     "metadata": {},
     "output_type": "execute_result"
    }
   ],
   "source": [
    "clf.fit(features_train, y=target_train)"
   ]
  },
  {
   "cell_type": "code",
   "execution_count": 68,
   "metadata": {},
   "outputs": [],
   "source": [
    "preds = clf.best_estimator_.predict(features_valid)"
   ]
  },
  {
   "cell_type": "code",
   "execution_count": 69,
   "metadata": {},
   "outputs": [
    {
     "data": {
      "text/plain": [
       "0.5902192242833052"
      ]
     },
     "execution_count": 69,
     "metadata": {},
     "output_type": "execute_result"
    }
   ],
   "source": [
    "f1_score(target_valid, preds)"
   ]
  },
  {
   "cell_type": "code",
   "execution_count": 70,
   "metadata": {},
   "outputs": [
    {
     "data": {
      "text/plain": [
       "0.7196085590225711"
      ]
     },
     "execution_count": 70,
     "metadata": {},
     "output_type": "execute_result"
    }
   ],
   "source": [
    "roc_auc_score(target_valid, preds)"
   ]
  },
  {
   "cell_type": "markdown",
   "metadata": {},
   "source": [
    "Неплохой результат, но этого недостаточно. Обратимся к логистической регрессии."
   ]
  },
  {
   "cell_type": "code",
   "execution_count": 72,
   "metadata": {},
   "outputs": [],
   "source": [
    "lr_balanced = LogisticRegression(random_state=12345, solver='liblinear', penalty='l1', class_weight='balanced')"
   ]
  },
  {
   "cell_type": "code",
   "execution_count": 73,
   "metadata": {},
   "outputs": [
    {
     "data": {
      "text/plain": [
       "LogisticRegression(class_weight='balanced', penalty='l1', random_state=12345,\n",
       "                   solver='liblinear')"
      ]
     },
     "execution_count": 73,
     "metadata": {},
     "output_type": "execute_result"
    }
   ],
   "source": [
    "lr_balanced.fit(features_train, target_train)"
   ]
  },
  {
   "cell_type": "code",
   "execution_count": 74,
   "metadata": {},
   "outputs": [],
   "source": [
    "preds = lr_balanced.predict(features_valid)"
   ]
  },
  {
   "cell_type": "code",
   "execution_count": 75,
   "metadata": {},
   "outputs": [
    {
     "data": {
      "text/plain": [
       "0.508411214953271"
      ]
     },
     "execution_count": 75,
     "metadata": {},
     "output_type": "execute_result"
    }
   ],
   "source": [
    "f1_score(target_valid, preds)"
   ]
  },
  {
   "cell_type": "code",
   "execution_count": 76,
   "metadata": {},
   "outputs": [
    {
     "data": {
      "text/plain": [
       "0.7190301711692748"
      ]
     },
     "execution_count": 76,
     "metadata": {},
     "output_type": "execute_result"
    }
   ],
   "source": [
    "roc_auc_score(target_valid, preds)"
   ]
  },
  {
   "cell_type": "markdown",
   "metadata": {},
   "source": [
    "Результат заметно улучшился в сравнении с небалансируемой моделью. Поробуем настроить гиперпараметры."
   ]
  },
  {
   "cell_type": "code",
   "execution_count": 77,
   "metadata": {},
   "outputs": [],
   "source": [
    "c = (1, 0.1, 0.01, 0.001)"
   ]
  },
  {
   "cell_type": "code",
   "execution_count": 78,
   "metadata": {},
   "outputs": [],
   "source": [
    "params = {'C': c}"
   ]
  },
  {
   "cell_type": "code",
   "execution_count": 79,
   "metadata": {},
   "outputs": [],
   "source": [
    "clf = GridSearchCV(estimator=lr_balanced, param_grid=params, verbose=3, scoring='f1')"
   ]
  },
  {
   "cell_type": "code",
   "execution_count": 80,
   "metadata": {
    "scrolled": true
   },
   "outputs": [
    {
     "name": "stdout",
     "output_type": "stream",
     "text": [
      "Fitting 5 folds for each of 4 candidates, totalling 20 fits\n",
      "[CV 1/5] END ............................................C=1; total time=   0.1s\n",
      "[CV 2/5] END ............................................C=1; total time=   0.2s\n",
      "[CV 3/5] END ............................................C=1; total time=   0.2s\n",
      "[CV 4/5] END ............................................C=1; total time=   0.2s\n",
      "[CV 5/5] END ............................................C=1; total time=   0.2s\n",
      "[CV 1/5] END ..........................................C=0.1; total time=   0.2s\n",
      "[CV 2/5] END ..........................................C=0.1; total time=   0.2s\n",
      "[CV 3/5] END ..........................................C=0.1; total time=   0.2s\n",
      "[CV 4/5] END ..........................................C=0.1; total time=   0.2s\n",
      "[CV 5/5] END ..........................................C=0.1; total time=   0.2s\n",
      "[CV 1/5] END .........................................C=0.01; total time=   0.2s\n",
      "[CV 2/5] END .........................................C=0.01; total time=   0.2s\n",
      "[CV 3/5] END .........................................C=0.01; total time=   0.2s\n",
      "[CV 4/5] END .........................................C=0.01; total time=   0.2s\n",
      "[CV 5/5] END .........................................C=0.01; total time=   0.2s\n",
      "[CV 1/5] END ........................................C=0.001; total time=   0.2s\n",
      "[CV 2/5] END ........................................C=0.001; total time=   0.2s\n",
      "[CV 3/5] END ........................................C=0.001; total time=   0.2s\n",
      "[CV 4/5] END ........................................C=0.001; total time=   0.2s\n",
      "[CV 5/5] END ........................................C=0.001; total time=   0.1s\n"
     ]
    },
    {
     "data": {
      "text/plain": [
       "GridSearchCV(estimator=LogisticRegression(class_weight='balanced', penalty='l1',\n",
       "                                          random_state=12345,\n",
       "                                          solver='liblinear'),\n",
       "             param_grid={'C': (1, 0.1, 0.01, 0.001)}, scoring='f1', verbose=3)"
      ]
     },
     "execution_count": 80,
     "metadata": {},
     "output_type": "execute_result"
    }
   ],
   "source": [
    "clf.fit(features_train, y=target_train)"
   ]
  },
  {
   "cell_type": "code",
   "execution_count": 81,
   "metadata": {},
   "outputs": [],
   "source": [
    "preds = clf.best_estimator_.predict(features_valid)"
   ]
  },
  {
   "cell_type": "code",
   "execution_count": 82,
   "metadata": {
    "scrolled": true
   },
   "outputs": [
    {
     "data": {
      "text/plain": [
       "0.5055970149253731"
      ]
     },
     "execution_count": 82,
     "metadata": {},
     "output_type": "execute_result"
    }
   ],
   "source": [
    "f1_score(target_valid, preds)"
   ]
  },
  {
   "cell_type": "code",
   "execution_count": 83,
   "metadata": {},
   "outputs": [
    {
     "data": {
      "text/plain": [
       "0.716645834769213"
      ]
     },
     "execution_count": 83,
     "metadata": {},
     "output_type": "execute_result"
    }
   ],
   "source": [
    "roc_auc_score(target_valid, preds)"
   ]
  },
  {
   "cell_type": "markdown",
   "metadata": {},
   "source": [
    "Неплохой, но недостаточно высокий результат. Попробуем downsampling."
   ]
  },
  {
   "cell_type": "code",
   "execution_count": 84,
   "metadata": {},
   "outputs": [],
   "source": [
    "def downsample(features, target, fraction):\n",
    "    features_zeros = features[target == 0]\n",
    "    features_ones = features[target == 1]\n",
    "    target_zeros = target[target == 0]\n",
    "    target_ones = target[target == 1]\n",
    "\n",
    "    features_downsampled = pd.concat(\n",
    "        [features_zeros.sample(frac=fraction, random_state=12345)] + [features_ones])\n",
    "    target_downsampled = pd.concat(\n",
    "        [target_zeros.sample(frac=fraction, random_state=12345)] + [target_ones])\n",
    "    \n",
    "    features_downsampled, target_downsampled = shuffle(\n",
    "        features_downsampled, target_downsampled, random_state=12345)\n",
    "    \n",
    "    return features_downsampled, target_downsampled"
   ]
  },
  {
   "cell_type": "code",
   "execution_count": 85,
   "metadata": {},
   "outputs": [],
   "source": [
    "features_downsampled, target_downsampled = downsample(features_train, target_train, 0.5)"
   ]
  },
  {
   "cell_type": "markdown",
   "metadata": {},
   "source": [
    "Обучим случайный лес."
   ]
  },
  {
   "cell_type": "code",
   "execution_count": 86,
   "metadata": {},
   "outputs": [],
   "source": [
    "rf_ds = RandomForestClassifier(random_state=12345, criterion='entropy')"
   ]
  },
  {
   "cell_type": "code",
   "execution_count": 87,
   "metadata": {},
   "outputs": [
    {
     "data": {
      "text/plain": [
       "RandomForestClassifier(criterion='entropy', random_state=12345)"
      ]
     },
     "execution_count": 87,
     "metadata": {},
     "output_type": "execute_result"
    }
   ],
   "source": [
    "rf_ds.fit(features_downsampled, target_downsampled)"
   ]
  },
  {
   "cell_type": "code",
   "execution_count": 88,
   "metadata": {},
   "outputs": [],
   "source": [
    "preds = rf_ds.predict(features_valid)"
   ]
  },
  {
   "cell_type": "code",
   "execution_count": 89,
   "metadata": {},
   "outputs": [
    {
     "data": {
      "text/plain": [
       "0.6284153005464481"
      ]
     },
     "execution_count": 89,
     "metadata": {},
     "output_type": "execute_result"
    }
   ],
   "source": [
    "f1_score(target_valid, preds)"
   ]
  },
  {
   "cell_type": "code",
   "execution_count": 90,
   "metadata": {},
   "outputs": [
    {
     "data": {
      "text/plain": [
       "0.764706978095772"
      ]
     },
     "execution_count": 90,
     "metadata": {},
     "output_type": "execute_result"
    }
   ],
   "source": [
    "roc_auc_score(target_valid, preds)"
   ]
  },
  {
   "cell_type": "markdown",
   "metadata": {},
   "source": [
    "Уменьшение выборки оказалось эффективным. Попробуем логистическую регрессию."
   ]
  },
  {
   "cell_type": "code",
   "execution_count": 91,
   "metadata": {},
   "outputs": [],
   "source": [
    "lr_ds = LogisticRegression(random_state=12345, solver='liblinear', penalty='l1')"
   ]
  },
  {
   "cell_type": "code",
   "execution_count": 92,
   "metadata": {},
   "outputs": [
    {
     "data": {
      "text/plain": [
       "LogisticRegression(penalty='l1', random_state=12345, solver='liblinear')"
      ]
     },
     "execution_count": 92,
     "metadata": {},
     "output_type": "execute_result"
    }
   ],
   "source": [
    "lr_ds.fit(features_downsampled, target_downsampled)"
   ]
  },
  {
   "cell_type": "code",
   "execution_count": 93,
   "metadata": {},
   "outputs": [],
   "source": [
    "preds = lr_ds.predict(features_valid)"
   ]
  },
  {
   "cell_type": "code",
   "execution_count": 94,
   "metadata": {},
   "outputs": [
    {
     "data": {
      "text/plain": [
       "0.5118219749652295"
      ]
     },
     "execution_count": 94,
     "metadata": {},
     "output_type": "execute_result"
    }
   ],
   "source": [
    "f1_score(target_valid, preds)"
   ]
  },
  {
   "cell_type": "code",
   "execution_count": 95,
   "metadata": {},
   "outputs": [
    {
     "data": {
      "text/plain": [
       "0.6913094663743371"
      ]
     },
     "execution_count": 95,
     "metadata": {},
     "output_type": "execute_result"
    }
   ],
   "source": [
    "roc_auc_score(target_valid, preds)"
   ]
  },
  {
   "cell_type": "markdown",
   "metadata": {},
   "source": [
    "Не очень хороший результат. Обратимся к алгоритму K-ближайших соседей."
   ]
  },
  {
   "cell_type": "code",
   "execution_count": 96,
   "metadata": {},
   "outputs": [],
   "source": [
    "knn_ds = KNeighborsClassifier()"
   ]
  },
  {
   "cell_type": "code",
   "execution_count": 97,
   "metadata": {},
   "outputs": [
    {
     "data": {
      "text/plain": [
       "KNeighborsClassifier()"
      ]
     },
     "execution_count": 97,
     "metadata": {},
     "output_type": "execute_result"
    }
   ],
   "source": [
    "knn_ds.fit(features_downsampled, target_downsampled)"
   ]
  },
  {
   "cell_type": "code",
   "execution_count": 98,
   "metadata": {},
   "outputs": [
    {
     "name": "stderr",
     "output_type": "stream",
     "text": [
      "/opt/conda/lib/python3.9/site-packages/sklearn/neighbors/_classification.py:211: FutureWarning: Unlike other reduction functions (e.g. `skew`, `kurtosis`), the default behavior of `mode` typically preserves the axis it acts along. In SciPy 1.11.0, this behavior will change: the default value of `keepdims` will become False, the `axis` over which the statistic is taken will be eliminated, and the value None will no longer be accepted. Set `keepdims` to True or False to avoid this warning.\n",
      "  mode, _ = stats.mode(_y[neigh_ind, k], axis=1)\n"
     ]
    }
   ],
   "source": [
    "preds = knn_ds.predict(features_valid)"
   ]
  },
  {
   "cell_type": "code",
   "execution_count": 99,
   "metadata": {},
   "outputs": [
    {
     "data": {
      "text/plain": [
       "0.22164948453608246"
      ]
     },
     "execution_count": 99,
     "metadata": {},
     "output_type": "execute_result"
    }
   ],
   "source": [
    "f1_score(target_valid, preds)"
   ]
  },
  {
   "cell_type": "code",
   "execution_count": 100,
   "metadata": {},
   "outputs": [
    {
     "data": {
      "text/plain": [
       "0.5056749069084285"
      ]
     },
     "execution_count": 100,
     "metadata": {},
     "output_type": "execute_result"
    }
   ],
   "source": [
    "roc_auc_score(target_valid, preds)"
   ]
  },
  {
   "cell_type": "markdown",
   "metadata": {},
   "source": [
    "Было рассмотрено 2 способа борьбы с дисбалансом классов: взвешивание классов и уменьшение выборки. Втоорой способ оказался достаточно эффективным. Лучший результат показал снова случайный лес."
   ]
  },
  {
   "cell_type": "markdown",
   "metadata": {},
   "source": [
    "## Тестирование модели"
   ]
  },
  {
   "cell_type": "code",
   "execution_count": 157,
   "metadata": {},
   "outputs": [],
   "source": [
    "preds = rf_ds.predict(features_test)"
   ]
  },
  {
   "cell_type": "code",
   "execution_count": 158,
   "metadata": {},
   "outputs": [
    {
     "data": {
      "text/plain": [
       "0.6049723756906077"
      ]
     },
     "execution_count": 158,
     "metadata": {},
     "output_type": "execute_result"
    }
   ],
   "source": [
    "f1_score(target_test, preds)"
   ]
  },
  {
   "cell_type": "code",
   "execution_count": 162,
   "metadata": {},
   "outputs": [],
   "source": [
    "cm = confusion_matrix(target_test, preds)"
   ]
  },
  {
   "cell_type": "code",
   "execution_count": 163,
   "metadata": {},
   "outputs": [
    {
     "data": {
      "image/png": "[encoded data removed]",
      "text/plain": [
       "<Figure size 432x288 with 2 Axes>"
      ]
     },
     "metadata": {
      "needs_background": "light"
     },
     "output_type": "display_data"
    }
   ],
   "source": [
    "disp = ConfusionMatrixDisplay(confusion_matrix=cm)\n",
    "disp.plot();"
   ]
  },
  {
   "cell_type": "code",
   "execution_count": 164,
   "metadata": {},
   "outputs": [
    {
     "data": {
      "text/plain": [
       "0.7488775297463924"
      ]
     },
     "execution_count": 164,
     "metadata": {},
     "output_type": "execute_result"
    }
   ],
   "source": [
    "roc_auc_score(target_test, preds)"
   ]
  },
  {
   "cell_type": "markdown",
   "metadata": {},
   "source": [
    "Желаемый результат достигнут."
   ]
  },
  {
   "cell_type": "markdown",
   "metadata": {},
   "source": [
    "## Чек-лист готовности проекта"
   ]
  },
  {
   "cell_type": "markdown",
   "metadata": {},
   "source": [
    "Поставьте 'x' в выполненных пунктах. Далее нажмите Shift+Enter."
   ]
  },
  {
   "cell_type": "markdown",
   "metadata": {},
   "source": [
    "- [x]  Jupyter Notebook открыт\n",
    "- [x]  Весь код выполняется без ошибок\n",
    "- [x]  Ячейки с кодом расположены в порядке исполнения\n",
    "- [x]  Выполнен шаг 1: данные подготовлены\n",
    "- [x]  Выполнен шаг 2: задача исследована\n",
    "    - [x]  Исследован баланс классов\n",
    "    - [x]  Изучены модели без учёта дисбаланса\n",
    "    - [x]  Написаны выводы по результатам исследования\n",
    "- [x]  Выполнен шаг 3: учтён дисбаланс\n",
    "    - [x]  Применено несколько способов борьбы с дисбалансом\n",
    "    - [x]  Написаны выводы по результатам исследования\n",
    "- [x]  Выполнен шаг 4: проведено тестирование\n",
    "- [x]  Удалось достичь *F1*-меры не менее 0.59\n",
    "- [x]  Исследована метрика *AUC-ROC*"
   ]
  },
  {
   "cell_type": "code",
   "execution_count": null,
   "metadata": {},
   "outputs": [],
   "source": []
  }
 ],
 "metadata": {
  "ExecuteTimeLog": [
   {
    "duration": 382,
    "start_time": "2023-04-02T23:41:10.355Z"
   },
   {
    "duration": 103,
    "start_time": "2023-04-02T23:41:22.643Z"
   },
   {
    "duration": 167,
    "start_time": "2023-04-02T23:45:25.391Z"
   },
   {
    "duration": 18,
    "start_time": "2023-04-02T23:45:29.798Z"
   },
   {
    "duration": 13,
    "start_time": "2023-04-02T23:45:54.844Z"
   },
   {
    "duration": 430,
    "start_time": "2023-04-05T00:56:09.911Z"
   },
   {
    "duration": 389,
    "start_time": "2023-04-05T00:56:10.521Z"
   },
   {
    "duration": 23,
    "start_time": "2023-04-05T00:56:11.035Z"
   },
   {
    "duration": 14,
    "start_time": "2023-04-05T00:56:12.294Z"
   },
   {
    "duration": 430,
    "start_time": "2023-04-06T22:44:33.169Z"
   },
   {
    "duration": 178,
    "start_time": "2023-04-06T22:44:33.748Z"
   },
   {
    "duration": 21,
    "start_time": "2023-04-06T22:44:34.726Z"
   },
   {
    "duration": 13,
    "start_time": "2023-04-06T22:44:35.752Z"
   },
   {
    "duration": 22,
    "start_time": "2023-04-06T22:46:36.610Z"
   },
   {
    "duration": 22,
    "start_time": "2023-04-06T22:47:02.040Z"
   },
   {
    "duration": 27,
    "start_time": "2023-04-06T22:47:15.719Z"
   },
   {
    "duration": 6,
    "start_time": "2023-04-06T22:55:21.650Z"
   },
   {
    "duration": 225,
    "start_time": "2023-04-06T22:55:31.410Z"
   },
   {
    "duration": 25,
    "start_time": "2023-04-06T22:55:33.836Z"
   },
   {
    "duration": 18,
    "start_time": "2023-04-06T22:55:42.204Z"
   },
   {
    "duration": 4,
    "start_time": "2023-04-06T22:55:53.446Z"
   },
   {
    "duration": 2,
    "start_time": "2023-04-06T22:57:36.957Z"
   },
   {
    "duration": 48,
    "start_time": "2023-04-06T22:57:37.261Z"
   },
   {
    "duration": 21,
    "start_time": "2023-04-06T22:57:37.473Z"
   },
   {
    "duration": 4,
    "start_time": "2023-04-06T22:57:37.828Z"
   },
   {
    "duration": 12,
    "start_time": "2023-04-06T22:57:38.541Z"
   },
   {
    "duration": 30,
    "start_time": "2023-04-06T22:57:41.116Z"
   },
   {
    "duration": 856,
    "start_time": "2023-04-06T22:58:36.305Z"
   },
   {
    "duration": 9,
    "start_time": "2023-04-06T22:58:47.472Z"
   },
   {
    "duration": 14,
    "start_time": "2023-04-06T22:58:48.257Z"
   },
   {
    "duration": 4,
    "start_time": "2023-04-06T22:59:12.572Z"
   },
   {
    "duration": 13,
    "start_time": "2023-04-06T23:03:32.471Z"
   },
   {
    "duration": 6,
    "start_time": "2023-04-06T23:03:40.422Z"
   },
   {
    "duration": 12,
    "start_time": "2023-04-06T23:03:46.411Z"
   },
   {
    "duration": 933,
    "start_time": "2023-04-06T23:08:35.017Z"
   },
   {
    "duration": 3,
    "start_time": "2023-04-06T23:10:20.106Z"
   },
   {
    "duration": 5,
    "start_time": "2023-04-06T23:13:23.413Z"
   },
   {
    "duration": 50,
    "start_time": "2023-04-06T23:13:23.832Z"
   },
   {
    "duration": 3,
    "start_time": "2023-04-06T23:13:40.921Z"
   },
   {
    "duration": 6,
    "start_time": "2023-04-06T23:13:45.537Z"
   },
   {
    "duration": 3,
    "start_time": "2023-04-06T23:18:27.864Z"
   },
   {
    "duration": 6,
    "start_time": "2023-04-06T23:18:52.563Z"
   },
   {
    "duration": 4,
    "start_time": "2023-04-06T23:19:18.709Z"
   },
   {
    "duration": 11,
    "start_time": "2023-04-06T23:19:29.730Z"
   },
   {
    "duration": 6,
    "start_time": "2023-04-06T23:19:40.412Z"
   },
   {
    "duration": 3,
    "start_time": "2023-04-06T23:20:52.807Z"
   },
   {
    "duration": 24,
    "start_time": "2023-04-06T23:21:02.814Z"
   },
   {
    "duration": 6,
    "start_time": "2023-04-06T23:22:40.945Z"
   },
   {
    "duration": 3,
    "start_time": "2023-04-06T23:22:47.812Z"
   },
   {
    "duration": 39,
    "start_time": "2023-04-06T23:22:48.310Z"
   },
   {
    "duration": 15,
    "start_time": "2023-04-06T23:22:48.453Z"
   },
   {
    "duration": 4,
    "start_time": "2023-04-06T23:22:48.612Z"
   },
   {
    "duration": 13,
    "start_time": "2023-04-06T23:22:48.850Z"
   },
   {
    "duration": 23,
    "start_time": "2023-04-06T23:22:50.018Z"
   },
   {
    "duration": 5,
    "start_time": "2023-04-06T23:22:50.566Z"
   },
   {
    "duration": 10,
    "start_time": "2023-04-06T23:22:51.167Z"
   },
   {
    "duration": 14,
    "start_time": "2023-04-06T23:22:51.416Z"
   },
   {
    "duration": 4,
    "start_time": "2023-04-06T23:22:51.859Z"
   },
   {
    "duration": 4,
    "start_time": "2023-04-06T23:23:03.248Z"
   },
   {
    "duration": 16,
    "start_time": "2023-04-06T23:23:05.013Z"
   },
   {
    "duration": 39,
    "start_time": "2023-04-06T23:23:08.524Z"
   },
   {
    "duration": 12,
    "start_time": "2023-04-06T23:23:09.130Z"
   },
   {
    "duration": 4,
    "start_time": "2023-04-06T23:23:09.270Z"
   },
   {
    "duration": 4,
    "start_time": "2023-04-06T23:23:11.510Z"
   },
   {
    "duration": 38,
    "start_time": "2023-04-06T23:23:12.026Z"
   },
   {
    "duration": 19,
    "start_time": "2023-04-06T23:23:12.298Z"
   },
   {
    "duration": 5,
    "start_time": "2023-04-06T23:23:12.553Z"
   },
   {
    "duration": 12,
    "start_time": "2023-04-06T23:23:12.846Z"
   },
   {
    "duration": 29,
    "start_time": "2023-04-06T23:23:13.409Z"
   },
   {
    "duration": 5,
    "start_time": "2023-04-06T23:23:14.434Z"
   },
   {
    "duration": 4,
    "start_time": "2023-04-06T23:23:16.845Z"
   },
   {
    "duration": 11,
    "start_time": "2023-04-06T23:23:17.467Z"
   },
   {
    "duration": 15,
    "start_time": "2023-04-06T23:23:18.046Z"
   },
   {
    "duration": 4,
    "start_time": "2023-04-06T23:23:18.508Z"
   },
   {
    "duration": 6,
    "start_time": "2023-04-06T23:23:19.160Z"
   },
   {
    "duration": 12,
    "start_time": "2023-04-06T23:23:19.447Z"
   },
   {
    "duration": 6,
    "start_time": "2023-04-06T23:23:19.858Z"
   },
   {
    "duration": 8,
    "start_time": "2023-04-06T23:23:20.156Z"
   },
   {
    "duration": 3,
    "start_time": "2023-04-06T23:23:21.210Z"
   },
   {
    "duration": 5,
    "start_time": "2023-04-06T23:23:21.509Z"
   },
   {
    "duration": 3,
    "start_time": "2023-04-06T23:23:21.805Z"
   },
   {
    "duration": 7,
    "start_time": "2023-04-06T23:23:22.447Z"
   },
   {
    "duration": 6,
    "start_time": "2023-04-06T23:23:23.112Z"
   },
   {
    "duration": 3,
    "start_time": "2023-04-06T23:23:24.651Z"
   },
   {
    "duration": 805,
    "start_time": "2023-04-06T23:23:29.713Z"
   },
   {
    "duration": 65,
    "start_time": "2023-04-06T23:23:43.716Z"
   },
   {
    "duration": 7,
    "start_time": "2023-04-06T23:23:53.946Z"
   },
   {
    "duration": 17,
    "start_time": "2023-04-06T23:24:14.213Z"
   },
   {
    "duration": 6,
    "start_time": "2023-04-06T23:24:24.117Z"
   },
   {
    "duration": 22,
    "start_time": "2023-04-06T23:25:25.609Z"
   },
   {
    "duration": 6,
    "start_time": "2023-04-06T23:25:33.522Z"
   },
   {
    "duration": 43,
    "start_time": "2023-04-06T23:26:56.629Z"
   },
   {
    "duration": 3,
    "start_time": "2023-04-06T23:28:30.216Z"
   },
   {
    "duration": 744,
    "start_time": "2023-04-06T23:28:45.145Z"
   },
   {
    "duration": 6,
    "start_time": "2023-04-06T23:28:52.839Z"
   },
   {
    "duration": 6,
    "start_time": "2023-04-06T23:28:56.124Z"
   },
   {
    "duration": 6,
    "start_time": "2023-04-06T23:29:01.445Z"
   },
   {
    "duration": 3,
    "start_time": "2023-04-06T23:31:51.165Z"
   },
   {
    "duration": 58,
    "start_time": "2023-04-06T23:31:55.019Z"
   },
   {
    "duration": 8,
    "start_time": "2023-04-06T23:32:07.627Z"
   },
   {
    "duration": 5,
    "start_time": "2023-04-06T23:32:11.844Z"
   },
   {
    "duration": 6,
    "start_time": "2023-04-06T23:32:16.097Z"
   },
   {
    "duration": 4,
    "start_time": "2023-04-06T23:35:06.459Z"
   },
   {
    "duration": 3,
    "start_time": "2023-04-06T23:36:07.646Z"
   },
   {
    "duration": 17,
    "start_time": "2023-04-06T23:36:18.602Z"
   },
   {
    "duration": 67,
    "start_time": "2023-04-06T23:36:32.843Z"
   },
   {
    "duration": 7,
    "start_time": "2023-04-06T23:36:55.402Z"
   },
   {
    "duration": 7,
    "start_time": "2023-04-06T23:37:01.648Z"
   },
   {
    "duration": 4,
    "start_time": "2023-04-06T23:38:07.602Z"
   },
   {
    "duration": 868,
    "start_time": "2023-04-06T23:38:19.760Z"
   },
   {
    "duration": 82,
    "start_time": "2023-04-06T23:38:37.746Z"
   },
   {
    "duration": 9,
    "start_time": "2023-04-06T23:38:43.215Z"
   },
   {
    "duration": 9,
    "start_time": "2023-04-06T23:38:46.919Z"
   },
   {
    "duration": 1093,
    "start_time": "2023-04-07T17:18:02.576Z"
   },
   {
    "duration": 76,
    "start_time": "2023-04-07T17:18:04.660Z"
   },
   {
    "duration": 18,
    "start_time": "2023-04-07T17:18:05.795Z"
   },
   {
    "duration": 4,
    "start_time": "2023-04-07T17:18:06.241Z"
   },
   {
    "duration": 12,
    "start_time": "2023-04-07T17:18:07.090Z"
   },
   {
    "duration": 20,
    "start_time": "2023-04-07T17:18:08.466Z"
   },
   {
    "duration": 5,
    "start_time": "2023-04-07T17:18:09.355Z"
   },
   {
    "duration": 4,
    "start_time": "2023-04-07T17:18:09.718Z"
   },
   {
    "duration": 10,
    "start_time": "2023-04-07T17:18:10.146Z"
   },
   {
    "duration": 12,
    "start_time": "2023-04-07T17:18:10.327Z"
   },
   {
    "duration": 3,
    "start_time": "2023-04-07T17:18:10.543Z"
   },
   {
    "duration": 5,
    "start_time": "2023-04-07T17:18:11.231Z"
   },
   {
    "duration": 12,
    "start_time": "2023-04-07T17:18:11.405Z"
   },
   {
    "duration": 8,
    "start_time": "2023-04-07T17:18:11.754Z"
   },
   {
    "duration": 4,
    "start_time": "2023-04-07T17:18:12.317Z"
   },
   {
    "duration": 6,
    "start_time": "2023-04-07T17:18:12.504Z"
   },
   {
    "duration": 3,
    "start_time": "2023-04-07T17:18:13.073Z"
   },
   {
    "duration": 7,
    "start_time": "2023-04-07T17:18:13.183Z"
   },
   {
    "duration": 4,
    "start_time": "2023-04-07T17:18:13.449Z"
   },
   {
    "duration": 8,
    "start_time": "2023-04-07T17:18:13.711Z"
   },
   {
    "duration": 7,
    "start_time": "2023-04-07T17:18:13.997Z"
   },
   {
    "duration": 3,
    "start_time": "2023-04-07T17:18:14.464Z"
   },
   {
    "duration": 744,
    "start_time": "2023-04-07T17:18:14.644Z"
   },
   {
    "duration": 56,
    "start_time": "2023-04-07T17:18:15.391Z"
   },
   {
    "duration": 22,
    "start_time": "2023-04-07T17:18:15.448Z"
   },
   {
    "duration": 6,
    "start_time": "2023-04-07T17:18:15.474Z"
   },
   {
    "duration": 3,
    "start_time": "2023-04-07T17:18:16.576Z"
   },
   {
    "duration": 370,
    "start_time": "2023-04-07T17:18:16.810Z"
   },
   {
    "duration": 85,
    "start_time": "2023-04-07T17:18:17.183Z"
   },
   {
    "duration": 9,
    "start_time": "2023-04-07T17:18:17.688Z"
   },
   {
    "duration": 9,
    "start_time": "2023-04-07T17:18:18.151Z"
   },
   {
    "duration": 4,
    "start_time": "2023-04-07T17:18:18.713Z"
   },
   {
    "duration": 85,
    "start_time": "2023-04-07T17:18:18.911Z"
   },
   {
    "duration": 19,
    "start_time": "2023-04-07T17:18:19.135Z"
   },
   {
    "duration": 9,
    "start_time": "2023-04-07T17:18:19.270Z"
   },
   {
    "duration": 8,
    "start_time": "2023-04-07T17:18:19.539Z"
   },
   {
    "duration": 2,
    "start_time": "2023-04-07T17:18:20.266Z"
   },
   {
    "duration": 24,
    "start_time": "2023-04-07T17:18:20.724Z"
   },
   {
    "duration": 82,
    "start_time": "2023-04-07T17:18:21.911Z"
   },
   {
    "duration": 7,
    "start_time": "2023-04-07T17:18:22.831Z"
   },
   {
    "duration": 6,
    "start_time": "2023-04-07T17:18:23.588Z"
   },
   {
    "duration": 3,
    "start_time": "2023-04-07T17:18:37.511Z"
   },
   {
    "duration": 663,
    "start_time": "2023-04-07T17:18:38.382Z"
   },
   {
    "duration": 64,
    "start_time": "2023-04-07T17:18:39.047Z"
   },
   {
    "duration": 6,
    "start_time": "2023-04-07T17:18:39.593Z"
   },
   {
    "duration": 7,
    "start_time": "2023-04-07T17:18:40.163Z"
   },
   {
    "duration": 100,
    "start_time": "2023-04-07T17:18:55.156Z"
   },
   {
    "duration": 3,
    "start_time": "2023-04-07T17:19:21.865Z"
   },
   {
    "duration": 3,
    "start_time": "2023-04-07T17:19:30.220Z"
   },
   {
    "duration": 3,
    "start_time": "2023-04-07T18:21:18.481Z"
   },
   {
    "duration": 3,
    "start_time": "2023-04-07T18:21:41.813Z"
   },
   {
    "duration": 4,
    "start_time": "2023-04-07T18:21:43.890Z"
   },
   {
    "duration": 3,
    "start_time": "2023-04-07T18:22:22.164Z"
   },
   {
    "duration": 5,
    "start_time": "2023-04-07T18:23:02.480Z"
   },
   {
    "duration": 3,
    "start_time": "2023-04-07T18:23:04.220Z"
   },
   {
    "duration": 4,
    "start_time": "2023-04-07T18:25:02.712Z"
   },
   {
    "duration": 6,
    "start_time": "2023-04-07T18:25:41.766Z"
   },
   {
    "duration": 2,
    "start_time": "2023-04-07T18:26:40.812Z"
   },
   {
    "duration": 29505,
    "start_time": "2023-04-07T18:26:41.645Z"
   },
   {
    "duration": 3,
    "start_time": "2023-04-07T18:27:13.946Z"
   },
   {
    "duration": 4,
    "start_time": "2023-04-07T18:27:17.796Z"
   },
   {
    "duration": 3,
    "start_time": "2023-04-07T18:27:22.185Z"
   },
   {
    "duration": 4,
    "start_time": "2023-04-07T18:27:22.433Z"
   },
   {
    "duration": 2,
    "start_time": "2023-04-07T18:27:23.938Z"
   },
   {
    "duration": 2,
    "start_time": "2023-04-07T18:27:24.324Z"
   },
   {
    "duration": 13945,
    "start_time": "2023-04-07T18:27:24.810Z"
   },
   {
    "duration": 0,
    "start_time": "2023-04-07T18:27:38.757Z"
   },
   {
    "duration": 3,
    "start_time": "2023-04-07T18:27:39.884Z"
   },
   {
    "duration": 5,
    "start_time": "2023-04-07T18:27:40.232Z"
   },
   {
    "duration": 3,
    "start_time": "2023-04-07T18:27:43.011Z"
   },
   {
    "duration": 5,
    "start_time": "2023-04-07T18:27:43.234Z"
   },
   {
    "duration": 3,
    "start_time": "2023-04-07T18:27:46.631Z"
   },
   {
    "duration": 4,
    "start_time": "2023-04-07T18:27:46.739Z"
   },
   {
    "duration": 4,
    "start_time": "2023-04-07T18:27:52.327Z"
   },
   {
    "duration": 9,
    "start_time": "2023-04-07T18:27:52.683Z"
   },
   {
    "duration": 9,
    "start_time": "2023-04-07T18:27:55.568Z"
   },
   {
    "duration": 4,
    "start_time": "2023-04-07T18:27:55.991Z"
   },
   {
    "duration": 3,
    "start_time": "2023-04-07T18:27:58.024Z"
   },
   {
    "duration": 3,
    "start_time": "2023-04-07T18:27:58.435Z"
   },
   {
    "duration": 107319,
    "start_time": "2023-04-07T18:27:58.898Z"
   },
   {
    "duration": 5,
    "start_time": "2023-04-07T18:29:55.779Z"
   },
   {
    "duration": 26787,
    "start_time": "2023-04-07T18:29:56.435Z"
   },
   {
    "duration": 42364,
    "start_time": "2023-04-07T18:30:39.544Z"
   },
   {
    "duration": 3,
    "start_time": "2023-04-07T18:31:38.484Z"
   },
   {
    "duration": 2,
    "start_time": "2023-04-07T18:31:39.043Z"
   },
   {
    "duration": 114640,
    "start_time": "2023-04-07T18:31:40.067Z"
   },
   {
    "duration": 7,
    "start_time": "2023-04-07T18:33:36.468Z"
   },
   {
    "duration": 12,
    "start_time": "2023-04-07T18:33:36.710Z"
   },
   {
    "duration": 3,
    "start_time": "2023-04-07T18:34:05.065Z"
   },
   {
    "duration": 15654,
    "start_time": "2023-04-07T18:34:05.655Z"
   },
   {
    "duration": 3,
    "start_time": "2023-04-07T18:34:26.130Z"
   },
   {
    "duration": 3,
    "start_time": "2023-04-07T18:34:26.316Z"
   },
   {
    "duration": 2,
    "start_time": "2023-04-07T18:34:28.003Z"
   },
   {
    "duration": 2,
    "start_time": "2023-04-07T18:34:28.235Z"
   },
   {
    "duration": 3,
    "start_time": "2023-04-07T18:34:28.738Z"
   },
   {
    "duration": 41688,
    "start_time": "2023-04-07T18:34:28.852Z"
   },
   {
    "duration": 3,
    "start_time": "2023-04-07T18:35:11.113Z"
   },
   {
    "duration": 589454,
    "start_time": "2023-04-07T18:35:11.384Z"
   },
   {
    "duration": 2,
    "start_time": "2023-04-07T18:45:05.119Z"
   },
   {
    "duration": 4,
    "start_time": "2023-04-07T18:45:12.675Z"
   },
   {
    "duration": 3,
    "start_time": "2023-04-07T18:45:13.962Z"
   },
   {
    "duration": 2,
    "start_time": "2023-04-07T18:45:14.823Z"
   },
   {
    "duration": 14017,
    "start_time": "2023-04-07T18:45:15.381Z"
   },
   {
    "duration": 3,
    "start_time": "2023-04-07T18:45:30.501Z"
   },
   {
    "duration": 2,
    "start_time": "2023-04-07T18:45:30.659Z"
   },
   {
    "duration": 2,
    "start_time": "2023-04-07T18:45:30.788Z"
   },
   {
    "duration": 354550,
    "start_time": "2023-04-07T18:45:30.898Z"
   },
   {
    "duration": 199,
    "start_time": "2023-04-07T18:56:07.180Z"
   },
   {
    "duration": 8,
    "start_time": "2023-04-07T18:56:20.547Z"
   },
   {
    "duration": 6,
    "start_time": "2023-04-07T18:56:31.163Z"
   },
   {
    "duration": 2,
    "start_time": "2023-04-07T18:57:10.866Z"
   },
   {
    "duration": 2,
    "start_time": "2023-04-07T19:16:37.024Z"
   },
   {
    "duration": 120,
    "start_time": "2023-04-07T19:16:52.499Z"
   },
   {
    "duration": 7,
    "start_time": "2023-04-07T19:17:00.902Z"
   },
   {
    "duration": 11,
    "start_time": "2023-04-07T19:17:06.867Z"
   },
   {
    "duration": 8,
    "start_time": "2023-04-07T19:17:13.690Z"
   },
   {
    "duration": 2,
    "start_time": "2023-04-07T19:18:41.641Z"
   },
   {
    "duration": 3,
    "start_time": "2023-04-07T19:20:15.425Z"
   },
   {
    "duration": 3,
    "start_time": "2023-04-07T19:20:30.531Z"
   },
   {
    "duration": 3994,
    "start_time": "2023-04-07T19:23:35.129Z"
   },
   {
    "duration": 30,
    "start_time": "2023-04-07T19:23:47.765Z"
   },
   {
    "duration": 8,
    "start_time": "2023-04-07T19:23:52.741Z"
   },
   {
    "duration": 7,
    "start_time": "2023-04-07T19:24:01.431Z"
   },
   {
    "duration": 6,
    "start_time": "2023-04-07T19:26:15.819Z"
   },
   {
    "duration": 4,
    "start_time": "2023-04-07T19:29:37.467Z"
   },
   {
    "duration": 4,
    "start_time": "2023-04-07T19:29:51.877Z"
   },
   {
    "duration": 17,
    "start_time": "2023-04-07T19:30:06.571Z"
   },
   {
    "duration": 6,
    "start_time": "2023-04-07T19:30:11.657Z"
   },
   {
    "duration": 16,
    "start_time": "2023-04-07T19:30:57.834Z"
   },
   {
    "duration": 5,
    "start_time": "2023-04-07T19:31:25.972Z"
   },
   {
    "duration": 9,
    "start_time": "2023-04-07T19:31:38.272Z"
   },
   {
    "duration": 9,
    "start_time": "2023-04-07T19:31:38.593Z"
   },
   {
    "duration": 3,
    "start_time": "2023-04-07T19:32:23.965Z"
   },
   {
    "duration": 716,
    "start_time": "2023-04-07T19:32:30.148Z"
   },
   {
    "duration": 796,
    "start_time": "2023-04-07T19:32:42.368Z"
   },
   {
    "duration": 65,
    "start_time": "2023-04-07T19:32:47.011Z"
   },
   {
    "duration": 8,
    "start_time": "2023-04-07T19:32:52.430Z"
   },
   {
    "duration": 4,
    "start_time": "2023-04-07T19:33:03.264Z"
   },
   {
    "duration": 2083,
    "start_time": "2023-04-07T19:33:03.682Z"
   },
   {
    "duration": 175,
    "start_time": "2023-04-07T19:33:05.769Z"
   },
   {
    "duration": 6,
    "start_time": "2023-04-07T19:33:05.945Z"
   },
   {
    "duration": 3,
    "start_time": "2023-04-07T19:33:09.505Z"
   },
   {
    "duration": 3611,
    "start_time": "2023-04-07T19:33:09.665Z"
   },
   {
    "duration": 267,
    "start_time": "2023-04-07T19:33:13.279Z"
   },
   {
    "duration": 8,
    "start_time": "2023-04-07T19:33:13.548Z"
   },
   {
    "duration": 3,
    "start_time": "2023-04-07T19:33:17.365Z"
   },
   {
    "duration": 6222,
    "start_time": "2023-04-07T19:33:17.538Z"
   },
   {
    "duration": 445,
    "start_time": "2023-04-07T19:33:23.763Z"
   },
   {
    "duration": 8,
    "start_time": "2023-04-07T19:33:24.209Z"
   },
   {
    "duration": 13,
    "start_time": "2023-04-07T19:33:28.474Z"
   },
   {
    "duration": 3,
    "start_time": "2023-04-07T19:33:30.035Z"
   },
   {
    "duration": 6291,
    "start_time": "2023-04-07T19:33:30.820Z"
   },
   {
    "duration": 456,
    "start_time": "2023-04-07T19:33:37.919Z"
   },
   {
    "duration": 11,
    "start_time": "2023-04-07T19:33:39.087Z"
   },
   {
    "duration": 3,
    "start_time": "2023-04-07T19:33:44.645Z"
   },
   {
    "duration": 3951,
    "start_time": "2023-04-07T19:33:44.915Z"
   },
   {
    "duration": 275,
    "start_time": "2023-04-07T19:33:48.868Z"
   },
   {
    "duration": 5,
    "start_time": "2023-04-07T19:33:49.145Z"
   },
   {
    "duration": 3,
    "start_time": "2023-04-07T19:34:02.998Z"
   },
   {
    "duration": 3399,
    "start_time": "2023-04-07T19:34:03.152Z"
   },
   {
    "duration": 267,
    "start_time": "2023-04-07T19:34:06.552Z"
   },
   {
    "duration": 9,
    "start_time": "2023-04-07T19:34:06.820Z"
   },
   {
    "duration": 3,
    "start_time": "2023-04-07T19:34:25.874Z"
   },
   {
    "duration": 4089,
    "start_time": "2023-04-07T19:34:26.041Z"
   },
   {
    "duration": 242,
    "start_time": "2023-04-07T19:34:30.133Z"
   },
   {
    "duration": 14,
    "start_time": "2023-04-07T19:34:30.378Z"
   },
   {
    "duration": 6,
    "start_time": "2023-04-07T19:34:35.575Z"
   },
   {
    "duration": 2458,
    "start_time": "2023-04-07T19:34:35.739Z"
   },
   {
    "duration": 185,
    "start_time": "2023-04-07T19:34:38.199Z"
   },
   {
    "duration": 15,
    "start_time": "2023-04-07T19:34:38.388Z"
   },
   {
    "duration": 8,
    "start_time": "2023-04-07T19:34:42.765Z"
   },
   {
    "duration": 879,
    "start_time": "2023-04-07T19:34:42.959Z"
   },
   {
    "duration": 68,
    "start_time": "2023-04-07T19:34:43.842Z"
   },
   {
    "duration": 8,
    "start_time": "2023-04-07T19:34:43.912Z"
   },
   {
    "duration": 17,
    "start_time": "2023-04-07T19:34:47.611Z"
   },
   {
    "duration": 5,
    "start_time": "2023-04-07T19:34:48.396Z"
   },
   {
    "duration": 899,
    "start_time": "2023-04-07T19:34:48.714Z"
   },
   {
    "duration": 70,
    "start_time": "2023-04-07T19:34:49.615Z"
   },
   {
    "duration": 7,
    "start_time": "2023-04-07T19:34:49.689Z"
   },
   {
    "duration": 8,
    "start_time": "2023-04-07T19:35:06.738Z"
   },
   {
    "duration": 10,
    "start_time": "2023-04-07T19:35:45.142Z"
   },
   {
    "duration": 2,
    "start_time": "2023-04-07T19:35:45.716Z"
   },
   {
    "duration": 612,
    "start_time": "2023-04-07T19:35:46.264Z"
   },
   {
    "duration": 60,
    "start_time": "2023-04-07T19:35:47.473Z"
   },
   {
    "duration": 7,
    "start_time": "2023-04-07T19:35:47.905Z"
   },
   {
    "duration": 6,
    "start_time": "2023-04-07T19:35:50.251Z"
   },
   {
    "duration": 3,
    "start_time": "2023-04-07T19:36:54.251Z"
   },
   {
    "duration": 534,
    "start_time": "2023-04-07T19:37:09.136Z"
   },
   {
    "duration": 5,
    "start_time": "2023-04-07T19:37:24.806Z"
   },
   {
    "duration": 9,
    "start_time": "2023-04-07T19:37:30.718Z"
   },
   {
    "duration": 5,
    "start_time": "2023-04-07T19:37:43.904Z"
   },
   {
    "duration": 3,
    "start_time": "2023-04-07T19:38:03.968Z"
   },
   {
    "duration": 42,
    "start_time": "2023-04-07T19:38:04.339Z"
   },
   {
    "duration": 7,
    "start_time": "2023-04-07T19:38:04.831Z"
   },
   {
    "duration": 7,
    "start_time": "2023-04-07T19:38:05.243Z"
   },
   {
    "duration": 8,
    "start_time": "2023-04-07T19:38:06.039Z"
   },
   {
    "duration": 71,
    "start_time": "2023-04-07T19:38:40.778Z"
   },
   {
    "duration": 13,
    "start_time": "2023-04-07T19:38:55.669Z"
   },
   {
    "duration": 20,
    "start_time": "2023-04-07T19:39:10.229Z"
   },
   {
    "duration": 57,
    "start_time": "2023-04-07T19:39:24.361Z"
   },
   {
    "duration": 6,
    "start_time": "2023-04-07T19:39:32.152Z"
   },
   {
    "duration": 6,
    "start_time": "2023-04-07T19:39:37.763Z"
   },
   {
    "duration": 3,
    "start_time": "2023-04-07T19:39:43.696Z"
   },
   {
    "duration": 12,
    "start_time": "2023-04-07T19:39:44.030Z"
   },
   {
    "duration": 52,
    "start_time": "2023-04-07T19:39:44.585Z"
   },
   {
    "duration": 5,
    "start_time": "2023-04-07T19:39:45.384Z"
   },
   {
    "duration": 7,
    "start_time": "2023-04-07T19:39:46.543Z"
   },
   {
    "duration": 3,
    "start_time": "2023-04-07T19:39:48.972Z"
   },
   {
    "duration": 12,
    "start_time": "2023-04-07T19:39:49.126Z"
   },
   {
    "duration": 53,
    "start_time": "2023-04-07T19:39:49.296Z"
   },
   {
    "duration": 7,
    "start_time": "2023-04-07T19:39:49.996Z"
   },
   {
    "duration": 6,
    "start_time": "2023-04-07T19:39:50.408Z"
   },
   {
    "duration": 4,
    "start_time": "2023-04-07T19:39:52.663Z"
   },
   {
    "duration": 17,
    "start_time": "2023-04-07T19:39:52.879Z"
   },
   {
    "duration": 65,
    "start_time": "2023-04-07T19:39:53.141Z"
   },
   {
    "duration": 5,
    "start_time": "2023-04-07T19:39:53.407Z"
   },
   {
    "duration": 6,
    "start_time": "2023-04-07T19:39:54.084Z"
   },
   {
    "duration": 2,
    "start_time": "2023-04-07T19:39:55.983Z"
   },
   {
    "duration": 11,
    "start_time": "2023-04-07T19:39:56.129Z"
   },
   {
    "duration": 60,
    "start_time": "2023-04-07T19:39:56.309Z"
   },
   {
    "duration": 7,
    "start_time": "2023-04-07T19:39:56.486Z"
   },
   {
    "duration": 7,
    "start_time": "2023-04-07T19:39:57.142Z"
   },
   {
    "duration": 3,
    "start_time": "2023-04-07T19:40:00.719Z"
   },
   {
    "duration": 15,
    "start_time": "2023-04-07T19:40:00.854Z"
   },
   {
    "duration": 60,
    "start_time": "2023-04-07T19:40:01.012Z"
   },
   {
    "duration": 7,
    "start_time": "2023-04-07T19:40:01.282Z"
   },
   {
    "duration": 9,
    "start_time": "2023-04-07T19:40:01.964Z"
   },
   {
    "duration": 3,
    "start_time": "2023-04-07T19:40:04.854Z"
   },
   {
    "duration": 13,
    "start_time": "2023-04-07T19:40:05.034Z"
   },
   {
    "duration": 75,
    "start_time": "2023-04-07T19:40:05.164Z"
   },
   {
    "duration": 6,
    "start_time": "2023-04-07T19:40:05.620Z"
   },
   {
    "duration": 9,
    "start_time": "2023-04-07T19:40:06.169Z"
   },
   {
    "duration": 3,
    "start_time": "2023-04-07T20:44:54.021Z"
   },
   {
    "duration": 72,
    "start_time": "2023-04-07T20:44:55.178Z"
   },
   {
    "duration": 18,
    "start_time": "2023-04-07T20:44:55.759Z"
   },
   {
    "duration": 4,
    "start_time": "2023-04-07T20:44:56.393Z"
   },
   {
    "duration": 13,
    "start_time": "2023-04-07T20:44:57.303Z"
   },
   {
    "duration": 19,
    "start_time": "2023-04-07T20:44:58.721Z"
   },
   {
    "duration": 4,
    "start_time": "2023-04-07T20:44:59.512Z"
   },
   {
    "duration": 5,
    "start_time": "2023-04-07T20:45:00.057Z"
   },
   {
    "duration": 10,
    "start_time": "2023-04-07T20:45:00.634Z"
   },
   {
    "duration": 12,
    "start_time": "2023-04-07T20:45:01.025Z"
   },
   {
    "duration": 5,
    "start_time": "2023-04-07T20:45:01.569Z"
   },
   {
    "duration": 5,
    "start_time": "2023-04-07T20:45:03.738Z"
   },
   {
    "duration": 14,
    "start_time": "2023-04-07T20:45:04.088Z"
   },
   {
    "duration": 6,
    "start_time": "2023-04-07T20:45:06.332Z"
   },
   {
    "duration": 3,
    "start_time": "2023-04-07T20:45:08.102Z"
   },
   {
    "duration": 6,
    "start_time": "2023-04-07T20:45:43.723Z"
   },
   {
    "duration": 5,
    "start_time": "2023-04-07T20:46:45.397Z"
   },
   {
    "duration": 2,
    "start_time": "2023-04-07T20:46:48.952Z"
   },
   {
    "duration": 7,
    "start_time": "2023-04-07T20:46:49.496Z"
   },
   {
    "duration": 4,
    "start_time": "2023-04-07T20:46:49.709Z"
   },
   {
    "duration": 6,
    "start_time": "2023-04-07T20:46:50.047Z"
   },
   {
    "duration": 6,
    "start_time": "2023-04-07T20:46:50.484Z"
   },
   {
    "duration": 3,
    "start_time": "2023-04-07T20:46:51.558Z"
   },
   {
    "duration": 661,
    "start_time": "2023-04-07T20:46:52.215Z"
   },
   {
    "duration": 57,
    "start_time": "2023-04-07T20:46:52.877Z"
   },
   {
    "duration": 9,
    "start_time": "2023-04-07T20:46:53.358Z"
   },
   {
    "duration": 5,
    "start_time": "2023-04-07T20:46:55.014Z"
   },
   {
    "duration": 2,
    "start_time": "2023-04-07T20:46:56.099Z"
   },
   {
    "duration": 310,
    "start_time": "2023-04-07T20:46:58.868Z"
   },
   {
    "duration": 7,
    "start_time": "2023-04-07T20:46:59.271Z"
   },
   {
    "duration": 7,
    "start_time": "2023-04-07T20:46:59.740Z"
   },
   {
    "duration": 7,
    "start_time": "2023-04-07T20:47:00.416Z"
   },
   {
    "duration": 3,
    "start_time": "2023-04-07T20:47:01.483Z"
   },
   {
    "duration": 39,
    "start_time": "2023-04-07T20:47:02.104Z"
   },
   {
    "duration": 15,
    "start_time": "2023-04-07T20:47:02.561Z"
   },
   {
    "duration": 5,
    "start_time": "2023-04-07T20:47:02.864Z"
   },
   {
    "duration": 6,
    "start_time": "2023-04-07T20:47:03.602Z"
   },
   {
    "duration": 2,
    "start_time": "2023-04-07T20:47:04.554Z"
   },
   {
    "duration": 13,
    "start_time": "2023-04-07T20:47:05.296Z"
   },
   {
    "duration": 48,
    "start_time": "2023-04-07T20:47:05.747Z"
   },
   {
    "duration": 6,
    "start_time": "2023-04-07T20:47:06.568Z"
   },
   {
    "duration": 6,
    "start_time": "2023-04-07T20:47:07.130Z"
   },
   {
    "duration": 3,
    "start_time": "2023-04-07T20:47:09.396Z"
   },
   {
    "duration": 543,
    "start_time": "2023-04-07T20:47:09.691Z"
   },
   {
    "duration": 49,
    "start_time": "2023-04-07T20:47:10.694Z"
   },
   {
    "duration": 7,
    "start_time": "2023-04-07T20:47:11.210Z"
   },
   {
    "duration": 6,
    "start_time": "2023-04-07T20:47:12.244Z"
   },
   {
    "duration": 3,
    "start_time": "2023-04-07T20:47:15.384Z"
   },
   {
    "duration": 3,
    "start_time": "2023-04-07T20:47:16.700Z"
   },
   {
    "duration": 2,
    "start_time": "2023-04-07T20:47:17.752Z"
   },
   {
    "duration": 5,
    "start_time": "2023-04-07T20:47:18.381Z"
   },
   {
    "duration": 3,
    "start_time": "2023-04-07T20:47:18.931Z"
   },
   {
    "duration": 285312,
    "start_time": "2023-04-07T20:47:20.179Z"
   },
   {
    "duration": 89,
    "start_time": "2023-04-07T20:53:47.803Z"
   },
   {
    "duration": 6,
    "start_time": "2023-04-07T20:53:48.287Z"
   },
   {
    "duration": 5,
    "start_time": "2023-04-07T20:53:49.399Z"
   },
   {
    "duration": 2,
    "start_time": "2023-04-07T20:53:53.519Z"
   },
   {
    "duration": 68,
    "start_time": "2023-04-07T20:53:54.018Z"
   },
   {
    "duration": 8,
    "start_time": "2023-04-07T20:53:54.599Z"
   },
   {
    "duration": 7,
    "start_time": "2023-04-07T20:53:55.494Z"
   },
   {
    "duration": 6,
    "start_time": "2023-04-07T20:53:56.317Z"
   },
   {
    "duration": 3,
    "start_time": "2023-04-07T20:53:57.685Z"
   },
   {
    "duration": 2,
    "start_time": "2023-04-07T20:53:58.016Z"
   },
   {
    "duration": 3,
    "start_time": "2023-04-07T20:53:58.345Z"
   },
   {
    "duration": 3902,
    "start_time": "2023-04-07T20:53:58.808Z"
   },
   {
    "duration": 5,
    "start_time": "2023-04-07T20:54:05.745Z"
   },
   {
    "duration": 5,
    "start_time": "2023-04-07T20:54:06.081Z"
   },
   {
    "duration": 5,
    "start_time": "2023-04-07T20:54:06.832Z"
   },
   {
    "duration": 4,
    "start_time": "2023-04-07T20:54:08.941Z"
   },
   {
    "duration": 9,
    "start_time": "2023-04-07T20:54:09.296Z"
   },
   {
    "duration": 3,
    "start_time": "2023-04-07T20:54:10.057Z"
   },
   {
    "duration": 428,
    "start_time": "2023-04-07T20:54:10.516Z"
   },
   {
    "duration": 50,
    "start_time": "2023-04-07T20:54:11.581Z"
   },
   {
    "duration": 8,
    "start_time": "2023-04-07T20:54:12.459Z"
   },
   {
    "duration": 10,
    "start_time": "2023-04-07T20:54:13.183Z"
   },
   {
    "duration": 13,
    "start_time": "2023-04-07T20:54:14.566Z"
   },
   {
    "duration": 54,
    "start_time": "2023-04-07T20:54:14.920Z"
   },
   {
    "duration": 8,
    "start_time": "2023-04-07T20:54:15.895Z"
   },
   {
    "duration": 6,
    "start_time": "2023-04-07T20:54:17.712Z"
   },
   {
    "duration": 10,
    "start_time": "2023-04-07T20:54:18.527Z"
   },
   {
    "duration": 3,
    "start_time": "2023-04-07T20:54:20.008Z"
   },
   {
    "duration": 9,
    "start_time": "2023-04-07T20:54:21.374Z"
   },
   {
    "duration": 41,
    "start_time": "2023-04-07T20:54:22.078Z"
   },
   {
    "duration": 11,
    "start_time": "2023-04-07T20:54:22.379Z"
   },
   {
    "duration": 7,
    "start_time": "2023-04-07T20:54:23.389Z"
   },
   {
    "duration": 48,
    "start_time": "2023-04-07T21:00:41.328Z"
   },
   {
    "duration": 18,
    "start_time": "2023-04-07T21:00:46.822Z"
   },
   {
    "duration": 8,
    "start_time": "2023-04-07T21:00:55.106Z"
   },
   {
    "duration": 11,
    "start_time": "2023-04-07T21:01:04.875Z"
   },
   {
    "duration": 48,
    "start_time": "2023-04-08T18:00:58.305Z"
   },
   {
    "duration": 2,
    "start_time": "2023-04-08T18:01:01.124Z"
   },
   {
    "duration": 57,
    "start_time": "2023-04-08T21:25:52.240Z"
   },
   {
    "duration": 16313,
    "start_time": "2023-04-08T21:32:15.495Z"
   },
   {
    "duration": 4132,
    "start_time": "2023-04-08T21:32:40.214Z"
   },
   {
    "duration": 196,
    "start_time": "2023-04-08T21:33:27.954Z"
   },
   {
    "duration": 190,
    "start_time": "2023-04-08T21:33:31.468Z"
   },
   {
    "duration": 18,
    "start_time": "2023-04-08T21:33:33.622Z"
   },
   {
    "duration": 19821,
    "start_time": "2023-04-08T21:33:39.119Z"
   },
   {
    "duration": 38094,
    "start_time": "2023-04-08T21:34:21.813Z"
   },
   {
    "duration": 62,
    "start_time": "2023-04-08T21:35:58.485Z"
   },
   {
    "duration": 3,
    "start_time": "2023-04-08T21:36:40.216Z"
   },
   {
    "duration": 46,
    "start_time": "2023-04-08T21:36:41.862Z"
   },
   {
    "duration": 9,
    "start_time": "2023-04-08T21:36:42.299Z"
   },
   {
    "duration": 54833,
    "start_time": "2023-04-08T21:36:43.002Z"
   },
   {
    "duration": 13,
    "start_time": "2023-04-08T21:37:37.837Z"
   },
   {
    "duration": 13,
    "start_time": "2023-04-08T21:37:37.852Z"
   },
   {
    "duration": 25,
    "start_time": "2023-04-08T21:37:37.867Z"
   },
   {
    "duration": 24,
    "start_time": "2023-04-08T21:39:54.423Z"
   },
   {
    "duration": 6,
    "start_time": "2023-04-08T21:39:55.859Z"
   },
   {
    "duration": 4,
    "start_time": "2023-04-08T21:39:57.158Z"
   },
   {
    "duration": 14,
    "start_time": "2023-04-08T21:39:57.795Z"
   },
   {
    "duration": 15,
    "start_time": "2023-04-08T21:39:59.237Z"
   },
   {
    "duration": 4,
    "start_time": "2023-04-08T21:40:00.243Z"
   },
   {
    "duration": 6,
    "start_time": "2023-04-08T21:40:01.500Z"
   },
   {
    "duration": 18,
    "start_time": "2023-04-08T21:40:01.888Z"
   },
   {
    "duration": 7,
    "start_time": "2023-04-08T21:40:04.022Z"
   },
   {
    "duration": 5,
    "start_time": "2023-04-08T21:40:07.541Z"
   },
   {
    "duration": 3,
    "start_time": "2023-04-08T21:40:25.282Z"
   },
   {
    "duration": 5,
    "start_time": "2023-04-08T21:40:32.822Z"
   },
   {
    "duration": 5,
    "start_time": "2023-04-08T21:40:38.327Z"
   },
   {
    "duration": 9,
    "start_time": "2023-04-08T22:44:23.974Z"
   },
   {
    "duration": 8,
    "start_time": "2023-04-08T22:44:31.434Z"
   },
   {
    "duration": 4,
    "start_time": "2023-04-08T22:44:33.967Z"
   },
   {
    "duration": 6,
    "start_time": "2023-04-08T22:44:34.551Z"
   },
   {
    "duration": 3,
    "start_time": "2023-04-08T22:44:34.994Z"
   },
   {
    "duration": 6,
    "start_time": "2023-04-08T22:44:35.330Z"
   },
   {
    "duration": 6,
    "start_time": "2023-04-08T22:44:35.700Z"
   },
   {
    "duration": 3,
    "start_time": "2023-04-08T22:44:37.319Z"
   },
   {
    "duration": 624,
    "start_time": "2023-04-08T22:44:37.682Z"
   },
   {
    "duration": 52,
    "start_time": "2023-04-08T22:44:38.308Z"
   },
   {
    "duration": 5,
    "start_time": "2023-04-08T22:44:38.450Z"
   },
   {
    "duration": 7,
    "start_time": "2023-04-08T22:44:47.674Z"
   },
   {
    "duration": 4,
    "start_time": "2023-04-08T22:44:50.258Z"
   },
   {
    "duration": 584,
    "start_time": "2023-04-08T22:44:50.912Z"
   },
   {
    "duration": 8,
    "start_time": "2023-04-08T22:44:51.944Z"
   },
   {
    "duration": 8,
    "start_time": "2023-04-08T22:44:52.243Z"
   },
   {
    "duration": 7,
    "start_time": "2023-04-08T22:44:52.959Z"
   },
   {
    "duration": 3,
    "start_time": "2023-04-08T22:45:10.803Z"
   },
   {
    "duration": 45,
    "start_time": "2023-04-08T22:45:11.846Z"
   },
   {
    "duration": 14,
    "start_time": "2023-04-08T22:45:12.701Z"
   },
   {
    "duration": 8,
    "start_time": "2023-04-08T22:45:12.948Z"
   },
   {
    "duration": 7,
    "start_time": "2023-04-08T22:45:13.594Z"
   },
   {
    "duration": 3,
    "start_time": "2023-04-08T22:45:15.368Z"
   },
   {
    "duration": 14,
    "start_time": "2023-04-08T22:45:15.592Z"
   },
   {
    "duration": 50,
    "start_time": "2023-04-08T22:45:15.976Z"
   },
   {
    "duration": 6,
    "start_time": "2023-04-08T22:45:16.475Z"
   },
   {
    "duration": 7,
    "start_time": "2023-04-08T22:45:17.363Z"
   },
   {
    "duration": 3,
    "start_time": "2023-04-08T22:45:40.892Z"
   },
   {
    "duration": 615,
    "start_time": "2023-04-08T22:45:41.309Z"
   },
   {
    "duration": 52,
    "start_time": "2023-04-08T22:45:42.471Z"
   },
   {
    "duration": 7,
    "start_time": "2023-04-08T22:45:42.829Z"
   },
   {
    "duration": 7,
    "start_time": "2023-04-08T22:45:45.392Z"
   },
   {
    "duration": 3,
    "start_time": "2023-04-08T22:45:50.631Z"
   },
   {
    "duration": 3,
    "start_time": "2023-04-08T22:45:51.236Z"
   },
   {
    "duration": 2,
    "start_time": "2023-04-08T22:45:51.861Z"
   },
   {
    "duration": 3,
    "start_time": "2023-04-08T22:45:52.377Z"
   },
   {
    "duration": 3,
    "start_time": "2023-04-08T22:45:52.769Z"
   },
   {
    "duration": 332806,
    "start_time": "2023-04-08T22:45:53.205Z"
   },
   {
    "duration": 348,
    "start_time": "2023-04-08T22:51:26.013Z"
   },
   {
    "duration": 8,
    "start_time": "2023-04-08T22:51:26.363Z"
   },
   {
    "duration": 10,
    "start_time": "2023-04-08T22:51:26.387Z"
   },
   {
    "duration": 12,
    "start_time": "2023-04-08T22:51:26.399Z"
   },
   {
    "duration": 3,
    "start_time": "2023-04-08T23:14:59.828Z"
   },
   {
    "duration": 81,
    "start_time": "2023-04-08T23:15:00.283Z"
   },
   {
    "duration": 26,
    "start_time": "2023-04-08T23:15:00.685Z"
   },
   {
    "duration": 7,
    "start_time": "2023-04-08T23:15:01.352Z"
   },
   {
    "duration": 6,
    "start_time": "2023-04-08T23:15:02.211Z"
   },
   {
    "duration": 2,
    "start_time": "2023-04-08T23:15:03.216Z"
   },
   {
    "duration": 5,
    "start_time": "2023-04-08T23:15:03.484Z"
   },
   {
    "duration": 3,
    "start_time": "2023-04-08T23:15:03.740Z"
   },
   {
    "duration": 3959,
    "start_time": "2023-04-08T23:15:04.097Z"
   },
   {
    "duration": 8,
    "start_time": "2023-04-08T23:15:11.598Z"
   },
   {
    "duration": 6,
    "start_time": "2023-04-08T23:15:12.250Z"
   },
   {
    "duration": 7,
    "start_time": "2023-04-08T23:15:12.770Z"
   },
   {
    "duration": 6,
    "start_time": "2023-04-08T23:17:59.781Z"
   },
   {
    "duration": 11,
    "start_time": "2023-04-08T23:18:00.645Z"
   },
   {
    "duration": 4,
    "start_time": "2023-04-08T23:18:01.954Z"
   },
   {
    "duration": 484,
    "start_time": "2023-04-08T23:18:02.272Z"
   },
   {
    "duration": 61,
    "start_time": "2023-04-08T23:18:02.758Z"
   },
   {
    "duration": 7,
    "start_time": "2023-04-08T23:18:03.478Z"
   },
   {
    "duration": 6,
    "start_time": "2023-04-08T23:18:06.599Z"
   },
   {
    "duration": 2,
    "start_time": "2023-04-08T23:18:07.854Z"
   },
   {
    "duration": 43,
    "start_time": "2023-04-08T23:18:08.268Z"
   },
   {
    "duration": 6,
    "start_time": "2023-04-08T23:18:08.624Z"
   },
   {
    "duration": 8,
    "start_time": "2023-04-08T23:18:08.975Z"
   },
   {
    "duration": 8,
    "start_time": "2023-04-08T23:18:09.372Z"
   },
   {
    "duration": 3,
    "start_time": "2023-04-08T23:18:11.402Z"
   },
   {
    "duration": 10,
    "start_time": "2023-04-08T23:18:11.728Z"
   },
   {
    "duration": 47,
    "start_time": "2023-04-08T23:18:12.069Z"
   },
   {
    "duration": 7,
    "start_time": "2023-04-08T23:18:12.624Z"
   },
   {
    "duration": 8,
    "start_time": "2023-04-08T23:18:13.307Z"
   },
   {
    "duration": 50,
    "start_time": "2023-04-08T23:18:39.699Z"
   },
   {
    "duration": 8,
    "start_time": "2023-04-08T23:18:40.481Z"
   },
   {
    "duration": 6,
    "start_time": "2023-04-08T23:18:40.842Z"
   },
   {
    "duration": 4,
    "start_time": "2023-04-08T23:20:22.592Z"
   },
   {
    "duration": 4,
    "start_time": "2023-04-08T23:20:36.174Z"
   },
   {
    "duration": 661,
    "start_time": "2023-04-08T23:20:36.758Z"
   },
   {
    "duration": 53,
    "start_time": "2023-04-08T23:20:38.139Z"
   },
   {
    "duration": 6,
    "start_time": "2023-04-08T23:20:38.697Z"
   },
   {
    "duration": 6,
    "start_time": "2023-04-08T23:20:39.446Z"
   },
   {
    "duration": 20,
    "start_time": "2023-04-08T23:21:29.729Z"
   },
   {
    "duration": 13,
    "start_time": "2023-04-08T23:22:14.869Z"
   },
   {
    "duration": 12,
    "start_time": "2023-04-08T23:22:26.049Z"
   },
   {
    "duration": 12,
    "start_time": "2023-04-08T23:22:29.763Z"
   },
   {
    "duration": 5,
    "start_time": "2023-04-08T23:22:32.605Z"
   },
   {
    "duration": 55,
    "start_time": "2023-04-08T23:22:57.064Z"
   },
   {
    "duration": 4,
    "start_time": "2023-04-08T23:23:55.273Z"
   },
   {
    "duration": 7,
    "start_time": "2023-04-08T23:24:22.593Z"
   },
   {
    "duration": 4,
    "start_time": "2023-04-08T23:24:39.070Z"
   },
   {
    "duration": 6,
    "start_time": "2023-04-08T23:27:09.270Z"
   },
   {
    "duration": 4,
    "start_time": "2023-04-08T23:27:11.995Z"
   },
   {
    "duration": 4,
    "start_time": "2023-04-08T23:27:14.355Z"
   },
   {
    "duration": 160,
    "start_time": "2023-04-08T23:27:29.486Z"
   },
   {
    "duration": 138,
    "start_time": "2023-04-08T23:27:37.472Z"
   },
   {
    "duration": 7,
    "start_time": "2023-04-08T23:39:05.549Z"
   },
   {
    "duration": 3,
    "start_time": "2023-04-08T23:39:07.185Z"
   },
   {
    "duration": 694,
    "start_time": "2023-04-08T23:39:07.598Z"
   },
   {
    "duration": 7,
    "start_time": "2023-04-08T23:39:08.386Z"
   },
   {
    "duration": 7,
    "start_time": "2023-04-08T23:39:09.341Z"
   },
   {
    "duration": 7,
    "start_time": "2023-04-08T23:39:09.869Z"
   },
   {
    "duration": 6,
    "start_time": "2023-04-08T23:39:25.380Z"
   },
   {
    "duration": 147,
    "start_time": "2023-04-08T23:39:26.126Z"
   },
   {
    "duration": 6,
    "start_time": "2023-04-08T23:39:29.474Z"
   },
   {
    "duration": 3,
    "start_time": "2023-04-08T23:39:30.699Z"
   },
   {
    "duration": 47,
    "start_time": "2023-04-08T23:39:31.048Z"
   },
   {
    "duration": 13,
    "start_time": "2023-04-08T23:39:31.616Z"
   },
   {
    "duration": 7,
    "start_time": "2023-04-08T23:39:32.347Z"
   },
   {
    "duration": 6,
    "start_time": "2023-04-08T23:39:32.792Z"
   },
   {
    "duration": 5,
    "start_time": "2023-04-08T23:39:44.546Z"
   },
   {
    "duration": 144,
    "start_time": "2023-04-08T23:39:44.661Z"
   },
   {
    "duration": 7,
    "start_time": "2023-04-08T23:40:00.656Z"
   },
   {
    "duration": 3,
    "start_time": "2023-04-08T23:40:02.557Z"
   },
   {
    "duration": 21,
    "start_time": "2023-04-08T23:40:02.854Z"
   },
   {
    "duration": 79,
    "start_time": "2023-04-08T23:40:03.097Z"
   },
   {
    "duration": 6,
    "start_time": "2023-04-08T23:40:03.409Z"
   },
   {
    "duration": 9,
    "start_time": "2023-04-08T23:40:04.785Z"
   },
   {
    "duration": 5,
    "start_time": "2023-04-08T23:40:16.759Z"
   },
   {
    "duration": 142,
    "start_time": "2023-04-08T23:40:17.259Z"
   },
   {
    "duration": 8,
    "start_time": "2023-04-08T23:40:20.057Z"
   },
   {
    "duration": 4,
    "start_time": "2023-04-08T23:40:31.108Z"
   },
   {
    "duration": 643,
    "start_time": "2023-04-08T23:40:31.299Z"
   },
   {
    "duration": 63,
    "start_time": "2023-04-08T23:40:31.944Z"
   },
   {
    "duration": 6,
    "start_time": "2023-04-08T23:40:32.054Z"
   },
   {
    "duration": 7,
    "start_time": "2023-04-08T23:40:34.720Z"
   },
   {
    "duration": 5,
    "start_time": "2023-04-08T23:40:47.539Z"
   },
   {
    "duration": 145,
    "start_time": "2023-04-08T23:40:47.796Z"
   },
   {
    "duration": 8,
    "start_time": "2023-04-08T23:40:56.460Z"
   },
   {
    "duration": 52,
    "start_time": "2023-04-08T23:41:36.747Z"
   },
   {
    "duration": 6,
    "start_time": "2023-04-08T23:41:37.364Z"
   },
   {
    "duration": 6,
    "start_time": "2023-04-08T23:41:37.965Z"
   },
   {
    "duration": 17,
    "start_time": "2023-04-08T23:41:46.249Z"
   },
   {
    "duration": 159,
    "start_time": "2023-04-08T23:41:46.370Z"
   },
   {
    "duration": 7,
    "start_time": "2023-04-08T23:41:57.148Z"
   },
   {
    "duration": 136,
    "start_time": "2023-04-08T23:41:57.828Z"
   },
   {
    "duration": 10,
    "start_time": "2023-04-08T23:42:00.448Z"
   },
   {
    "duration": 57,
    "start_time": "2023-04-08T23:43:55.203Z"
   }
  ],
  "kernelspec": {
   "display_name": "Python 3 (ipykernel)",
   "language": "python",
   "name": "python3"
  },
  "language_info": {
   "codemirror_mode": {
    "name": "ipython",
    "version": 3
   },
   "file_extension": ".py",
   "mimetype": "text/x-python",
   "name": "python",
   "nbconvert_exporter": "python",
   "pygments_lexer": "ipython3",
   "version": "3.9.5"
  },
  "toc": {
   "base_numbering": 1,
   "nav_menu": {},
   "number_sections": true,
   "sideBar": true,
   "skip_h1_title": true,
   "title_cell": "Содержание",
   "title_sidebar": "Contents",
   "toc_cell": true,
   "toc_position": {},
   "toc_section_display": true,
   "toc_window_display": true
  }
 },
 "nbformat": 4,
 "nbformat_minor": 2
}
